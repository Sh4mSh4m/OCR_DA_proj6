{
 "cells": [
  {
   "cell_type": "code",
   "execution_count": 1,
   "metadata": {},
   "outputs": [],
   "source": [
    "import pandas as pd"
   ]
  },
  {
   "cell_type": "code",
   "execution_count": 2,
   "metadata": {},
   "outputs": [],
   "source": [
    "data_raw = pd.read_csv(\"notes.csv\")"
   ]
  },
  {
   "cell_type": "markdown",
   "metadata": {},
   "source": [
    "Point 8 fevrier\n",
    "\n",
    "Pour ce qui est de la description des détails de ta modélisation, tu dois expliquer ta démarche :\n",
    "\n",
    "justification de la régression logistique (car variable cible qualitative binaire),\n",
    "type de modélisation suivie (stepwise ?),\n",
    "performances globales du modèle :\n",
    "stats : AIC, BIC, test de l’hypothèse nulle globale (ie tous les coef estimés égaux à 0) ;\n",
    "visuelles : AUC et courbe ROC, matrice de confusion et les taux qui en découlent (taux de bien classés et donc taux d’erreur, sensibilité, spécificité)\n",
    "et stats au niveau des coefficients estimés (significativement différents de 0 ?)\n",
    "et résidus faibles, aléatoires\n",
    "\n",
    "Oui, pour la partie application, tu as dans le descriptif de la mission un fichier example.csv avec de nouvelles valeurs sur lesquelles appliquer le modèle et ainsi prédire la probabilité d’avoir un vrai billet.\n",
    "\n",
    "Ce fichier est exactement au même format que celui qui te sera transmis en direct par l’évaluateur lors de la soutenance. Tu devras donc appliquer ton modèle en direct sur ce nouveau jeu de données et l’évaluateur vérifiera que les probabilités estimées ne sont pas trop éloignées de celles auxquelles il s’attend.\n",
    "\n",
    " \n",
    "\n",
    "Par rapport à ton Git, la validation croisée n’est pas expressément demandée. C’est un plus si tu la fais et l’expliques, mais pas obligatoire.\n",
    "\n",
    "Dans ton modèle, si tu ne suis pas une approche automatique (stepwise ou autre), il faut que tu retires les variables non significatives de ton modèle."
   ]
  },
  {
   "cell_type": "markdown",
   "metadata": {},
   "source": [
    "# Mission 0: description des données"
   ]
  },
  {
   "cell_type": "code",
   "execution_count": 3,
   "metadata": {},
   "outputs": [
    {
     "data": {
      "text/html": [
       "<div>\n",
       "<style scoped>\n",
       "    .dataframe tbody tr th:only-of-type {\n",
       "        vertical-align: middle;\n",
       "    }\n",
       "\n",
       "    .dataframe tbody tr th {\n",
       "        vertical-align: top;\n",
       "    }\n",
       "\n",
       "    .dataframe thead th {\n",
       "        text-align: right;\n",
       "    }\n",
       "</style>\n",
       "<table border=\"1\" class=\"dataframe\">\n",
       "  <thead>\n",
       "    <tr style=\"text-align: right;\">\n",
       "      <th></th>\n",
       "      <th>is_genuine</th>\n",
       "      <th>diagonal</th>\n",
       "      <th>height_left</th>\n",
       "      <th>height_right</th>\n",
       "      <th>margin_low</th>\n",
       "      <th>margin_up</th>\n",
       "      <th>length</th>\n",
       "    </tr>\n",
       "  </thead>\n",
       "  <tbody>\n",
       "    <tr>\n",
       "      <th>0</th>\n",
       "      <td>True</td>\n",
       "      <td>171.81</td>\n",
       "      <td>104.86</td>\n",
       "      <td>104.95</td>\n",
       "      <td>4.52</td>\n",
       "      <td>2.89</td>\n",
       "      <td>112.83</td>\n",
       "    </tr>\n",
       "    <tr>\n",
       "      <th>1</th>\n",
       "      <td>True</td>\n",
       "      <td>171.67</td>\n",
       "      <td>103.74</td>\n",
       "      <td>103.70</td>\n",
       "      <td>4.01</td>\n",
       "      <td>2.87</td>\n",
       "      <td>113.29</td>\n",
       "    </tr>\n",
       "    <tr>\n",
       "      <th>2</th>\n",
       "      <td>True</td>\n",
       "      <td>171.83</td>\n",
       "      <td>103.76</td>\n",
       "      <td>103.76</td>\n",
       "      <td>4.40</td>\n",
       "      <td>2.88</td>\n",
       "      <td>113.84</td>\n",
       "    </tr>\n",
       "    <tr>\n",
       "      <th>3</th>\n",
       "      <td>True</td>\n",
       "      <td>171.80</td>\n",
       "      <td>103.78</td>\n",
       "      <td>103.65</td>\n",
       "      <td>3.73</td>\n",
       "      <td>3.12</td>\n",
       "      <td>113.63</td>\n",
       "    </tr>\n",
       "    <tr>\n",
       "      <th>4</th>\n",
       "      <td>True</td>\n",
       "      <td>172.05</td>\n",
       "      <td>103.70</td>\n",
       "      <td>103.75</td>\n",
       "      <td>5.04</td>\n",
       "      <td>2.27</td>\n",
       "      <td>113.55</td>\n",
       "    </tr>\n",
       "    <tr>\n",
       "      <th>5</th>\n",
       "      <td>True</td>\n",
       "      <td>172.57</td>\n",
       "      <td>104.65</td>\n",
       "      <td>104.44</td>\n",
       "      <td>4.54</td>\n",
       "      <td>2.99</td>\n",
       "      <td>113.16</td>\n",
       "    </tr>\n",
       "    <tr>\n",
       "      <th>6</th>\n",
       "      <td>True</td>\n",
       "      <td>172.38</td>\n",
       "      <td>103.55</td>\n",
       "      <td>103.80</td>\n",
       "      <td>3.97</td>\n",
       "      <td>2.90</td>\n",
       "      <td>113.30</td>\n",
       "    </tr>\n",
       "    <tr>\n",
       "      <th>7</th>\n",
       "      <td>True</td>\n",
       "      <td>171.58</td>\n",
       "      <td>103.65</td>\n",
       "      <td>103.37</td>\n",
       "      <td>3.54</td>\n",
       "      <td>3.19</td>\n",
       "      <td>113.38</td>\n",
       "    </tr>\n",
       "    <tr>\n",
       "      <th>8</th>\n",
       "      <td>True</td>\n",
       "      <td>171.96</td>\n",
       "      <td>103.51</td>\n",
       "      <td>103.75</td>\n",
       "      <td>4.06</td>\n",
       "      <td>3.33</td>\n",
       "      <td>113.53</td>\n",
       "    </tr>\n",
       "    <tr>\n",
       "      <th>9</th>\n",
       "      <td>True</td>\n",
       "      <td>172.14</td>\n",
       "      <td>104.34</td>\n",
       "      <td>104.20</td>\n",
       "      <td>4.63</td>\n",
       "      <td>3.02</td>\n",
       "      <td>112.47</td>\n",
       "    </tr>\n",
       "  </tbody>\n",
       "</table>\n",
       "</div>"
      ],
      "text/plain": [
       "   is_genuine  diagonal  height_left  height_right  margin_low  margin_up  \\\n",
       "0        True    171.81       104.86        104.95        4.52       2.89   \n",
       "1        True    171.67       103.74        103.70        4.01       2.87   \n",
       "2        True    171.83       103.76        103.76        4.40       2.88   \n",
       "3        True    171.80       103.78        103.65        3.73       3.12   \n",
       "4        True    172.05       103.70        103.75        5.04       2.27   \n",
       "5        True    172.57       104.65        104.44        4.54       2.99   \n",
       "6        True    172.38       103.55        103.80        3.97       2.90   \n",
       "7        True    171.58       103.65        103.37        3.54       3.19   \n",
       "8        True    171.96       103.51        103.75        4.06       3.33   \n",
       "9        True    172.14       104.34        104.20        4.63       3.02   \n",
       "\n",
       "   length  \n",
       "0  112.83  \n",
       "1  113.29  \n",
       "2  113.84  \n",
       "3  113.63  \n",
       "4  113.55  \n",
       "5  113.16  \n",
       "6  113.30  \n",
       "7  113.38  \n",
       "8  113.53  \n",
       "9  112.47  "
      ]
     },
     "execution_count": 3,
     "metadata": {},
     "output_type": "execute_result"
    }
   ],
   "source": [
    "data_raw.head(10)"
   ]
  },
  {
   "cell_type": "code",
   "execution_count": 4,
   "metadata": {},
   "outputs": [
    {
     "data": {
      "text/plain": [
       "(170, 7)"
      ]
     },
     "execution_count": 4,
     "metadata": {},
     "output_type": "execute_result"
    }
   ],
   "source": [
    "data_raw.shape"
   ]
  },
  {
   "cell_type": "code",
   "execution_count": 5,
   "metadata": {},
   "outputs": [
    {
     "name": "stdout",
     "output_type": "stream",
     "text": [
      "<class 'pandas.core.frame.DataFrame'>\n",
      "RangeIndex: 170 entries, 0 to 169\n",
      "Data columns (total 7 columns):\n",
      " #   Column        Non-Null Count  Dtype  \n",
      "---  ------        --------------  -----  \n",
      " 0   is_genuine    170 non-null    bool   \n",
      " 1   diagonal      170 non-null    float64\n",
      " 2   height_left   170 non-null    float64\n",
      " 3   height_right  170 non-null    float64\n",
      " 4   margin_low    170 non-null    float64\n",
      " 5   margin_up     170 non-null    float64\n",
      " 6   length        170 non-null    float64\n",
      "dtypes: bool(1), float64(6)\n",
      "memory usage: 8.3 KB\n"
     ]
    }
   ],
   "source": [
    "data_raw.info()"
   ]
  },
  {
   "cell_type": "code",
   "execution_count": 6,
   "metadata": {},
   "outputs": [
    {
     "data": {
      "text/html": [
       "<div>\n",
       "<style scoped>\n",
       "    .dataframe tbody tr th:only-of-type {\n",
       "        vertical-align: middle;\n",
       "    }\n",
       "\n",
       "    .dataframe tbody tr th {\n",
       "        vertical-align: top;\n",
       "    }\n",
       "\n",
       "    .dataframe thead th {\n",
       "        text-align: right;\n",
       "    }\n",
       "</style>\n",
       "<table border=\"1\" class=\"dataframe\">\n",
       "  <thead>\n",
       "    <tr style=\"text-align: right;\">\n",
       "      <th></th>\n",
       "      <th>diagonal</th>\n",
       "      <th>height_left</th>\n",
       "      <th>height_right</th>\n",
       "      <th>margin_low</th>\n",
       "      <th>margin_up</th>\n",
       "      <th>length</th>\n",
       "    </tr>\n",
       "  </thead>\n",
       "  <tbody>\n",
       "    <tr>\n",
       "      <th>count</th>\n",
       "      <td>170.000000</td>\n",
       "      <td>170.000000</td>\n",
       "      <td>170.000000</td>\n",
       "      <td>170.000000</td>\n",
       "      <td>170.000000</td>\n",
       "      <td>170.000000</td>\n",
       "    </tr>\n",
       "    <tr>\n",
       "      <th>mean</th>\n",
       "      <td>171.940588</td>\n",
       "      <td>104.066353</td>\n",
       "      <td>103.928118</td>\n",
       "      <td>4.612118</td>\n",
       "      <td>3.170412</td>\n",
       "      <td>112.570412</td>\n",
       "    </tr>\n",
       "    <tr>\n",
       "      <th>std</th>\n",
       "      <td>0.305768</td>\n",
       "      <td>0.298185</td>\n",
       "      <td>0.330980</td>\n",
       "      <td>0.702103</td>\n",
       "      <td>0.236361</td>\n",
       "      <td>0.924448</td>\n",
       "    </tr>\n",
       "    <tr>\n",
       "      <th>min</th>\n",
       "      <td>171.040000</td>\n",
       "      <td>103.230000</td>\n",
       "      <td>103.140000</td>\n",
       "      <td>3.540000</td>\n",
       "      <td>2.270000</td>\n",
       "      <td>109.970000</td>\n",
       "    </tr>\n",
       "    <tr>\n",
       "      <th>25%</th>\n",
       "      <td>171.730000</td>\n",
       "      <td>103.842500</td>\n",
       "      <td>103.690000</td>\n",
       "      <td>4.050000</td>\n",
       "      <td>3.012500</td>\n",
       "      <td>111.855000</td>\n",
       "    </tr>\n",
       "    <tr>\n",
       "      <th>50%</th>\n",
       "      <td>171.945000</td>\n",
       "      <td>104.055000</td>\n",
       "      <td>103.950000</td>\n",
       "      <td>4.450000</td>\n",
       "      <td>3.170000</td>\n",
       "      <td>112.845000</td>\n",
       "    </tr>\n",
       "    <tr>\n",
       "      <th>75%</th>\n",
       "      <td>172.137500</td>\n",
       "      <td>104.287500</td>\n",
       "      <td>104.170000</td>\n",
       "      <td>5.127500</td>\n",
       "      <td>3.330000</td>\n",
       "      <td>113.287500</td>\n",
       "    </tr>\n",
       "    <tr>\n",
       "      <th>max</th>\n",
       "      <td>173.010000</td>\n",
       "      <td>104.860000</td>\n",
       "      <td>104.950000</td>\n",
       "      <td>6.280000</td>\n",
       "      <td>3.680000</td>\n",
       "      <td>113.980000</td>\n",
       "    </tr>\n",
       "  </tbody>\n",
       "</table>\n",
       "</div>"
      ],
      "text/plain": [
       "         diagonal  height_left  height_right  margin_low   margin_up  \\\n",
       "count  170.000000   170.000000    170.000000  170.000000  170.000000   \n",
       "mean   171.940588   104.066353    103.928118    4.612118    3.170412   \n",
       "std      0.305768     0.298185      0.330980    0.702103    0.236361   \n",
       "min    171.040000   103.230000    103.140000    3.540000    2.270000   \n",
       "25%    171.730000   103.842500    103.690000    4.050000    3.012500   \n",
       "50%    171.945000   104.055000    103.950000    4.450000    3.170000   \n",
       "75%    172.137500   104.287500    104.170000    5.127500    3.330000   \n",
       "max    173.010000   104.860000    104.950000    6.280000    3.680000   \n",
       "\n",
       "           length  \n",
       "count  170.000000  \n",
       "mean   112.570412  \n",
       "std      0.924448  \n",
       "min    109.970000  \n",
       "25%    111.855000  \n",
       "50%    112.845000  \n",
       "75%    113.287500  \n",
       "max    113.980000  "
      ]
     },
     "execution_count": 6,
     "metadata": {},
     "output_type": "execute_result"
    }
   ],
   "source": [
    "data_raw.describe()"
   ]
  },
  {
   "cell_type": "code",
   "execution_count": 7,
   "metadata": {},
   "outputs": [
    {
     "data": {
      "text/html": [
       "<div>\n",
       "<style scoped>\n",
       "    .dataframe tbody tr th:only-of-type {\n",
       "        vertical-align: middle;\n",
       "    }\n",
       "\n",
       "    .dataframe tbody tr th {\n",
       "        vertical-align: top;\n",
       "    }\n",
       "\n",
       "    .dataframe thead th {\n",
       "        text-align: right;\n",
       "    }\n",
       "</style>\n",
       "<table border=\"1\" class=\"dataframe\">\n",
       "  <thead>\n",
       "    <tr style=\"text-align: right;\">\n",
       "      <th></th>\n",
       "      <th>is_genuine</th>\n",
       "    </tr>\n",
       "  </thead>\n",
       "  <tbody>\n",
       "    <tr>\n",
       "      <th>count</th>\n",
       "      <td>170</td>\n",
       "    </tr>\n",
       "    <tr>\n",
       "      <th>unique</th>\n",
       "      <td>2</td>\n",
       "    </tr>\n",
       "    <tr>\n",
       "      <th>top</th>\n",
       "      <td>True</td>\n",
       "    </tr>\n",
       "    <tr>\n",
       "      <th>freq</th>\n",
       "      <td>100</td>\n",
       "    </tr>\n",
       "  </tbody>\n",
       "</table>\n",
       "</div>"
      ],
      "text/plain": [
       "       is_genuine\n",
       "count         170\n",
       "unique          2\n",
       "top          True\n",
       "freq          100"
      ]
     },
     "execution_count": 7,
     "metadata": {},
     "output_type": "execute_result"
    }
   ],
   "source": [
    "data_raw.describe(include=['object', 'bool'])"
   ]
  },
  {
   "cell_type": "code",
   "execution_count": 8,
   "metadata": {},
   "outputs": [],
   "source": [
    "import seaborn as sns"
   ]
  },
  {
   "cell_type": "code",
   "execution_count": 9,
   "metadata": {},
   "outputs": [
    {
     "data": {
      "image/png": "[encoded data removed]",
      "text/plain": [
       "<Figure size 1080x1080 with 42 Axes>"
      ]
     },
     "metadata": {
      "needs_background": "light"
     },
     "output_type": "display_data"
    }
   ],
   "source": [
    "_ = sns.pairplot(\n",
    "    data=data_raw.loc[:,\"diagonal\":\"length\"],\n",
    "    kind=\"scatter\",\n",
    "    diag_kind=\"kde\",\n",
    ")"
   ]
  },
  {
   "cell_type": "code",
   "execution_count": 10,
   "metadata": {},
   "outputs": [
    {
     "data": {
      "image/png": "[encoded data removed]",
      "text/plain": [
       "<Figure size 360x360 with 1 Axes>"
      ]
     },
     "metadata": {
      "needs_background": "light"
     },
     "output_type": "display_data"
    }
   ],
   "source": [
    "import matplotlib.pyplot as plt\n",
    "import numpy as np\n",
    "\n",
    "corr = data_raw.loc[:,\"diagonal\":\"length\"].corr()\n",
    "_, ax = plt.subplots(figsize=(5, 5))\n",
    "\n",
    "\n",
    "_ = sns.heatmap(\n",
    "    corr, \n",
    "    cmap=sns.light_palette(\"#00304e\", as_cmap=True), \n",
    "    square=True, \n",
    "    cbar=False, \n",
    "    ax=ax, \n",
    "    annot=True, \n",
    "    annot_kws={\"fontsize\": 8},\n",
    ")"
   ]
  },
  {
   "cell_type": "code",
   "execution_count": 11,
   "metadata": {},
   "outputs": [
    {
     "data": {
      "image/png": "[encoded data removed]",
      "text/plain": [
       "<Figure size 1080x1440 with 6 Axes>"
      ]
     },
     "metadata": {
      "needs_background": "light"
     },
     "output_type": "display_data"
    }
   ],
   "source": [
    "_, axes = plt.subplots(nrows=2, ncols=3, figsize=(15, 20))\n",
    "\n",
    "for f, ax in zip(data_raw.loc[:,\"diagonal\":\"length\"].columns, axes.ravel()):\n",
    "        _ = sns.boxplot(\n",
    "        data=data_raw, \n",
    "        y=f, \n",
    "        x='is_genuine', \n",
    "        ax=ax, \n",
    "        palette=sns.color_palette(\"Set1\", n_colors=6, desat=.5)\n",
    "    )\n"
   ]
  },
  {
   "cell_type": "markdown",
   "metadata": {},
   "source": [
    "# Mission 1: ACP"
   ]
  },
  {
   "cell_type": "code",
   "execution_count": 12,
   "metadata": {},
   "outputs": [],
   "source": [
    "from sklearn import preprocessing, decomposition\n",
    "from functions import *\n",
    "\n",
    "X = data_raw.drop(columns=[\"is_genuine\"]).values\n",
    "std_scale = preprocessing.StandardScaler().fit(X)\n",
    "X_scaled=std_scale.transform(X)"
   ]
  },
  {
   "cell_type": "code",
   "execution_count": 13,
   "metadata": {},
   "outputs": [
    {
     "data": {
      "text/html": [
       "<div>\n",
       "<style scoped>\n",
       "    .dataframe tbody tr th:only-of-type {\n",
       "        vertical-align: middle;\n",
       "    }\n",
       "\n",
       "    .dataframe tbody tr th {\n",
       "        vertical-align: top;\n",
       "    }\n",
       "\n",
       "    .dataframe thead th {\n",
       "        text-align: right;\n",
       "    }\n",
       "</style>\n",
       "<table border=\"1\" class=\"dataframe\">\n",
       "  <thead>\n",
       "    <tr style=\"text-align: right;\">\n",
       "      <th></th>\n",
       "      <th>0</th>\n",
       "      <th>1</th>\n",
       "      <th>2</th>\n",
       "      <th>3</th>\n",
       "      <th>4</th>\n",
       "      <th>5</th>\n",
       "    </tr>\n",
       "  </thead>\n",
       "  <tbody>\n",
       "    <tr>\n",
       "      <th>0</th>\n",
       "      <td>-0.428344</td>\n",
       "      <td>2.669454</td>\n",
       "      <td>3.096563</td>\n",
       "      <td>-0.131590</td>\n",
       "      <td>-1.189874</td>\n",
       "      <td>0.281633</td>\n",
       "    </tr>\n",
       "    <tr>\n",
       "      <th>1</th>\n",
       "      <td>-0.887559</td>\n",
       "      <td>-1.097697</td>\n",
       "      <td>-0.691254</td>\n",
       "      <td>-0.860126</td>\n",
       "      <td>-1.274740</td>\n",
       "      <td>0.780697</td>\n",
       "    </tr>\n",
       "    <tr>\n",
       "      <th>2</th>\n",
       "      <td>-0.362742</td>\n",
       "      <td>-1.030427</td>\n",
       "      <td>-0.509439</td>\n",
       "      <td>-0.303010</td>\n",
       "      <td>-1.232307</td>\n",
       "      <td>1.377405</td>\n",
       "    </tr>\n",
       "    <tr>\n",
       "      <th>3</th>\n",
       "      <td>-0.461145</td>\n",
       "      <td>-0.963156</td>\n",
       "      <td>-0.842767</td>\n",
       "      <td>-1.260106</td>\n",
       "      <td>-0.213913</td>\n",
       "      <td>1.149571</td>\n",
       "    </tr>\n",
       "    <tr>\n",
       "      <th>4</th>\n",
       "      <td>0.358883</td>\n",
       "      <td>-1.232238</td>\n",
       "      <td>-0.539742</td>\n",
       "      <td>0.611230</td>\n",
       "      <td>-3.820725</td>\n",
       "      <td>1.062777</td>\n",
       "    </tr>\n",
       "    <tr>\n",
       "      <th>...</th>\n",
       "      <td>...</td>\n",
       "      <td>...</td>\n",
       "      <td>...</td>\n",
       "      <td>...</td>\n",
       "      <td>...</td>\n",
       "      <td>...</td>\n",
       "    </tr>\n",
       "    <tr>\n",
       "      <th>165</th>\n",
       "      <td>0.555689</td>\n",
       "      <td>0.550431</td>\n",
       "      <td>1.581436</td>\n",
       "      <td>0.896930</td>\n",
       "      <td>1.738009</td>\n",
       "      <td>-0.857535</td>\n",
       "    </tr>\n",
       "    <tr>\n",
       "      <th>166</th>\n",
       "      <td>3.507789</td>\n",
       "      <td>1.761301</td>\n",
       "      <td>1.157201</td>\n",
       "      <td>0.611230</td>\n",
       "      <td>-0.510944</td>\n",
       "      <td>-1.801418</td>\n",
       "    </tr>\n",
       "    <tr>\n",
       "      <th>167</th>\n",
       "      <td>1.736529</td>\n",
       "      <td>0.684972</td>\n",
       "      <td>0.520847</td>\n",
       "      <td>0.382670</td>\n",
       "      <td>0.677182</td>\n",
       "      <td>-2.050950</td>\n",
       "    </tr>\n",
       "    <tr>\n",
       "      <th>168</th>\n",
       "      <td>-0.395543</td>\n",
       "      <td>-0.324086</td>\n",
       "      <td>-0.145809</td>\n",
       "      <td>0.168395</td>\n",
       "      <td>1.610710</td>\n",
       "      <td>-0.759892</td>\n",
       "    </tr>\n",
       "    <tr>\n",
       "      <th>169</th>\n",
       "      <td>0.063673</td>\n",
       "      <td>-0.223180</td>\n",
       "      <td>0.066309</td>\n",
       "      <td>1.454046</td>\n",
       "      <td>0.380151</td>\n",
       "      <td>-1.747172</td>\n",
       "    </tr>\n",
       "  </tbody>\n",
       "</table>\n",
       "<p>170 rows × 6 columns</p>\n",
       "</div>"
      ],
      "text/plain": [
       "            0         1         2         3         4         5\n",
       "0   -0.428344  2.669454  3.096563 -0.131590 -1.189874  0.281633\n",
       "1   -0.887559 -1.097697 -0.691254 -0.860126 -1.274740  0.780697\n",
       "2   -0.362742 -1.030427 -0.509439 -0.303010 -1.232307  1.377405\n",
       "3   -0.461145 -0.963156 -0.842767 -1.260106 -0.213913  1.149571\n",
       "4    0.358883 -1.232238 -0.539742  0.611230 -3.820725  1.062777\n",
       "..        ...       ...       ...       ...       ...       ...\n",
       "165  0.555689  0.550431  1.581436  0.896930  1.738009 -0.857535\n",
       "166  3.507789  1.761301  1.157201  0.611230 -0.510944 -1.801418\n",
       "167  1.736529  0.684972  0.520847  0.382670  0.677182 -2.050950\n",
       "168 -0.395543 -0.324086 -0.145809  0.168395  1.610710 -0.759892\n",
       "169  0.063673 -0.223180  0.066309  1.454046  0.380151 -1.747172\n",
       "\n",
       "[170 rows x 6 columns]"
      ]
     },
     "execution_count": 13,
     "metadata": {},
     "output_type": "execute_result"
    }
   ],
   "source": [
    "PDX_scaled = pd.DataFrame(X_scaled)\n",
    "PDX_scaled"
   ]
  },
  {
   "cell_type": "code",
   "execution_count": 14,
   "metadata": {},
   "outputs": [],
   "source": [
    "PDX_scaled.columns = [\"diagonal\", \"height_left\",\"height_right\", \"margin_low\", \"margin_up\", \"length\"]"
   ]
  },
  {
   "cell_type": "code",
   "execution_count": 15,
   "metadata": {},
   "outputs": [
    {
     "data": {
      "text/html": [
       "<div>\n",
       "<style scoped>\n",
       "    .dataframe tbody tr th:only-of-type {\n",
       "        vertical-align: middle;\n",
       "    }\n",
       "\n",
       "    .dataframe tbody tr th {\n",
       "        vertical-align: top;\n",
       "    }\n",
       "\n",
       "    .dataframe thead th {\n",
       "        text-align: right;\n",
       "    }\n",
       "</style>\n",
       "<table border=\"1\" class=\"dataframe\">\n",
       "  <thead>\n",
       "    <tr style=\"text-align: right;\">\n",
       "      <th></th>\n",
       "      <th>diagonal</th>\n",
       "      <th>height_left</th>\n",
       "      <th>height_right</th>\n",
       "      <th>margin_low</th>\n",
       "      <th>margin_up</th>\n",
       "      <th>length</th>\n",
       "    </tr>\n",
       "  </thead>\n",
       "  <tbody>\n",
       "    <tr>\n",
       "      <th>count</th>\n",
       "      <td>1.700000e+02</td>\n",
       "      <td>1.700000e+02</td>\n",
       "      <td>1.700000e+02</td>\n",
       "      <td>1.700000e+02</td>\n",
       "      <td>1.700000e+02</td>\n",
       "      <td>1.700000e+02</td>\n",
       "    </tr>\n",
       "    <tr>\n",
       "      <th>mean</th>\n",
       "      <td>7.695805e-15</td>\n",
       "      <td>3.147286e-14</td>\n",
       "      <td>3.619588e-14</td>\n",
       "      <td>7.523394e-16</td>\n",
       "      <td>-1.504679e-15</td>\n",
       "      <td>-1.375109e-14</td>\n",
       "    </tr>\n",
       "    <tr>\n",
       "      <th>std</th>\n",
       "      <td>1.002954e+00</td>\n",
       "      <td>1.002954e+00</td>\n",
       "      <td>1.002954e+00</td>\n",
       "      <td>1.002954e+00</td>\n",
       "      <td>1.002954e+00</td>\n",
       "      <td>1.002954e+00</td>\n",
       "    </tr>\n",
       "    <tr>\n",
       "      <th>min</th>\n",
       "      <td>-2.954029e+00</td>\n",
       "      <td>-2.813096e+00</td>\n",
       "      <td>-2.388197e+00</td>\n",
       "      <td>-1.531521e+00</td>\n",
       "      <td>-3.820725e+00</td>\n",
       "      <td>-2.821245e+00</td>\n",
       "    </tr>\n",
       "    <tr>\n",
       "      <th>25%</th>\n",
       "      <td>-6.907527e-01</td>\n",
       "      <td>-7.529355e-01</td>\n",
       "      <td>-7.215570e-01</td>\n",
       "      <td>-8.029855e-01</td>\n",
       "      <td>-6.700684e-01</td>\n",
       "      <td>-7.761662e-01</td>\n",
       "    </tr>\n",
       "    <tr>\n",
       "      <th>50%</th>\n",
       "      <td>1.447108e-02</td>\n",
       "      <td>-3.818593e-02</td>\n",
       "      <td>6.630909e-02</td>\n",
       "      <td>-2.315852e-01</td>\n",
       "      <td>-1.747245e-03</td>\n",
       "      <td>2.979069e-01</td>\n",
       "    </tr>\n",
       "    <tr>\n",
       "      <th>75%</th>\n",
       "      <td>6.458924e-01</td>\n",
       "      <td>7.438342e-01</td>\n",
       "      <td>7.329650e-01</td>\n",
       "      <td>7.362241e-01</td>\n",
       "      <td>6.771821e-01</td>\n",
       "      <td>7.779851e-01</td>\n",
       "    </tr>\n",
       "    <tr>\n",
       "      <th>max</th>\n",
       "      <td>3.507789e+00</td>\n",
       "      <td>2.669454e+00</td>\n",
       "      <td>3.096563e+00</td>\n",
       "      <td>2.382571e+00</td>\n",
       "      <td>2.162340e+00</td>\n",
       "      <td>1.529294e+00</td>\n",
       "    </tr>\n",
       "  </tbody>\n",
       "</table>\n",
       "</div>"
      ],
      "text/plain": [
       "           diagonal   height_left  height_right    margin_low     margin_up  \\\n",
       "count  1.700000e+02  1.700000e+02  1.700000e+02  1.700000e+02  1.700000e+02   \n",
       "mean   7.695805e-15  3.147286e-14  3.619588e-14  7.523394e-16 -1.504679e-15   \n",
       "std    1.002954e+00  1.002954e+00  1.002954e+00  1.002954e+00  1.002954e+00   \n",
       "min   -2.954029e+00 -2.813096e+00 -2.388197e+00 -1.531521e+00 -3.820725e+00   \n",
       "25%   -6.907527e-01 -7.529355e-01 -7.215570e-01 -8.029855e-01 -6.700684e-01   \n",
       "50%    1.447108e-02 -3.818593e-02  6.630909e-02 -2.315852e-01 -1.747245e-03   \n",
       "75%    6.458924e-01  7.438342e-01  7.329650e-01  7.362241e-01  6.771821e-01   \n",
       "max    3.507789e+00  2.669454e+00  3.096563e+00  2.382571e+00  2.162340e+00   \n",
       "\n",
       "             length  \n",
       "count  1.700000e+02  \n",
       "mean  -1.375109e-14  \n",
       "std    1.002954e+00  \n",
       "min   -2.821245e+00  \n",
       "25%   -7.761662e-01  \n",
       "50%    2.979069e-01  \n",
       "75%    7.779851e-01  \n",
       "max    1.529294e+00  "
      ]
     },
     "execution_count": 15,
     "metadata": {},
     "output_type": "execute_result"
    }
   ],
   "source": [
    "PDX_scaled.describe()"
   ]
  },
  {
   "cell_type": "code",
   "execution_count": 16,
   "metadata": {},
   "outputs": [
    {
     "data": {
      "image/png": "[encoded data removed]",
      "text/plain": [
       "<Figure size 1080x720 with 1 Axes>"
      ]
     },
     "metadata": {
      "needs_background": "light"
     },
     "output_type": "display_data"
    }
   ],
   "source": [
    "pca = decomposition.PCA(n_components=6)\n",
    "pca.fit(X_scaled)\n",
    "\n",
    "fig1_1 = plt.figure(figsize=(15, 10))\n",
    "plt.axhline(16.6)\n",
    "display_scree_plot(pca)"
   ]
  },
  {
   "cell_type": "code",
   "execution_count": 17,
   "metadata": {},
   "outputs": [
    {
     "data": {
      "text/plain": [
       "array([0.47447921, 0.21957106, 0.14234524, 0.08526295, 0.04612822,\n",
       "       0.03221331])"
      ]
     },
     "execution_count": 17,
     "metadata": {},
     "output_type": "execute_result"
    }
   ],
   "source": [
    "dir(pca)\n",
    "pca.explained_variance_ratio_"
   ]
  },
  {
   "cell_type": "code",
   "execution_count": 18,
   "metadata": {},
   "outputs": [
    {
     "data": {
      "text/plain": [
       "[2.863720650321014,\n",
       " 1.3252217799812753,\n",
       " 0.8591251368790592,\n",
       " 0.5146048137613252,\n",
       " 0.27840703478426176,\n",
       " 0.19442354285294342]"
      ]
     },
     "execution_count": 18,
     "metadata": {},
     "output_type": "execute_result"
    }
   ],
   "source": [
    "lst=pca.explained_variance_.tolist()\n",
    "lst"
   ]
  },
  {
   "cell_type": "code",
   "execution_count": null,
   "metadata": {},
   "outputs": [],
   "source": []
  },
  {
   "cell_type": "code",
   "execution_count": 19,
   "metadata": {},
   "outputs": [
    {
     "data": {
      "text/plain": [
       "['__abstractmethods__',\n",
       " '__class__',\n",
       " '__delattr__',\n",
       " '__dict__',\n",
       " '__dir__',\n",
       " '__doc__',\n",
       " '__eq__',\n",
       " '__format__',\n",
       " '__ge__',\n",
       " '__getattribute__',\n",
       " '__getstate__',\n",
       " '__gt__',\n",
       " '__hash__',\n",
       " '__init__',\n",
       " '__init_subclass__',\n",
       " '__le__',\n",
       " '__lt__',\n",
       " '__module__',\n",
       " '__ne__',\n",
       " '__new__',\n",
       " '__reduce__',\n",
       " '__reduce_ex__',\n",
       " '__repr__',\n",
       " '__setattr__',\n",
       " '__setstate__',\n",
       " '__sizeof__',\n",
       " '__str__',\n",
       " '__subclasshook__',\n",
       " '__weakref__',\n",
       " '_abc_cache',\n",
       " '_abc_negative_cache',\n",
       " '_abc_negative_cache_version',\n",
       " '_abc_registry',\n",
       " '_fit',\n",
       " '_fit_full',\n",
       " '_fit_svd_solver',\n",
       " '_fit_truncated',\n",
       " '_get_param_names',\n",
       " '_get_tags',\n",
       " '_more_tags',\n",
       " 'components_',\n",
       " 'copy',\n",
       " 'explained_variance_',\n",
       " 'explained_variance_ratio_',\n",
       " 'fit',\n",
       " 'fit_transform',\n",
       " 'get_covariance',\n",
       " 'get_params',\n",
       " 'get_precision',\n",
       " 'inverse_transform',\n",
       " 'iterated_power',\n",
       " 'mean_',\n",
       " 'n_components',\n",
       " 'n_components_',\n",
       " 'n_features_',\n",
       " 'n_samples_',\n",
       " 'noise_variance_',\n",
       " 'random_state',\n",
       " 'score',\n",
       " 'score_samples',\n",
       " 'set_params',\n",
       " 'singular_values_',\n",
       " 'svd_solver',\n",
       " 'tol',\n",
       " 'transform',\n",
       " 'whiten']"
      ]
     },
     "execution_count": 19,
     "metadata": {},
     "output_type": "execute_result"
    }
   ],
   "source": [
    "dir(pca)"
   ]
  },
  {
   "cell_type": "code",
   "execution_count": 20,
   "metadata": {},
   "outputs": [
    {
     "data": {
      "image/png": "[encoded data removed]",
      "text/plain": [
       "<Figure size 504x504 with 1 Axes>"
      ]
     },
     "metadata": {
      "needs_background": "light"
     },
     "output_type": "display_data"
    }
   ],
   "source": [
    "pcs=pca.components_\n",
    "display_circles(pcs,6,pca,[(0,1)],\n",
    "                labels=data_raw.loc[:,\"diagonal\":\"length\"].columns)"
   ]
  },
  {
   "cell_type": "code",
   "execution_count": 21,
   "metadata": {},
   "outputs": [
    {
     "data": {
      "text/html": [
       "<div>\n",
       "<style scoped>\n",
       "    .dataframe tbody tr th:only-of-type {\n",
       "        vertical-align: middle;\n",
       "    }\n",
       "\n",
       "    .dataframe tbody tr th {\n",
       "        vertical-align: top;\n",
       "    }\n",
       "\n",
       "    .dataframe thead th {\n",
       "        text-align: right;\n",
       "    }\n",
       "</style>\n",
       "<table border=\"1\" class=\"dataframe\">\n",
       "  <thead>\n",
       "    <tr style=\"text-align: right;\">\n",
       "      <th></th>\n",
       "      <th>0</th>\n",
       "      <th>1</th>\n",
       "      <th>2</th>\n",
       "      <th>3</th>\n",
       "      <th>4</th>\n",
       "      <th>5</th>\n",
       "    </tr>\n",
       "  </thead>\n",
       "  <tbody>\n",
       "    <tr>\n",
       "      <th>0</th>\n",
       "      <td>2.153639</td>\n",
       "      <td>1.599709</td>\n",
       "      <td>1.787451</td>\n",
       "      <td>2.433465</td>\n",
       "      <td>0.699690</td>\n",
       "      <td>-1.267702</td>\n",
       "    </tr>\n",
       "    <tr>\n",
       "      <th>1</th>\n",
       "      <td>-2.110416</td>\n",
       "      <td>-0.526039</td>\n",
       "      <td>0.542563</td>\n",
       "      <td>0.344550</td>\n",
       "      <td>0.067440</td>\n",
       "      <td>-0.544601</td>\n",
       "    </tr>\n",
       "    <tr>\n",
       "      <th>2</th>\n",
       "      <td>-1.973152</td>\n",
       "      <td>-0.048102</td>\n",
       "      <td>0.858716</td>\n",
       "      <td>0.374812</td>\n",
       "      <td>-0.424886</td>\n",
       "      <td>0.080487</td>\n",
       "    </tr>\n",
       "    <tr>\n",
       "      <th>3</th>\n",
       "      <td>-2.059795</td>\n",
       "      <td>-0.089105</td>\n",
       "      <td>-0.531529</td>\n",
       "      <td>0.519548</td>\n",
       "      <td>-0.033267</td>\n",
       "      <td>-0.038261</td>\n",
       "    </tr>\n",
       "    <tr>\n",
       "      <th>4</th>\n",
       "      <td>-2.403180</td>\n",
       "      <td>0.412170</td>\n",
       "      <td>3.319507</td>\n",
       "      <td>-0.837043</td>\n",
       "      <td>-0.420151</td>\n",
       "      <td>-0.445099</td>\n",
       "    </tr>\n",
       "    <tr>\n",
       "      <th>...</th>\n",
       "      <td>...</td>\n",
       "      <td>...</td>\n",
       "      <td>...</td>\n",
       "      <td>...</td>\n",
       "      <td>...</td>\n",
       "      <td>...</td>\n",
       "    </tr>\n",
       "    <tr>\n",
       "      <th>165</th>\n",
       "      <td>2.478626</td>\n",
       "      <td>0.189974</td>\n",
       "      <td>-0.814598</td>\n",
       "      <td>0.107861</td>\n",
       "      <td>-0.899828</td>\n",
       "      <td>0.093078</td>\n",
       "    </tr>\n",
       "    <tr>\n",
       "      <th>166</th>\n",
       "      <td>2.585331</td>\n",
       "      <td>2.914472</td>\n",
       "      <td>0.586789</td>\n",
       "      <td>-2.183704</td>\n",
       "      <td>0.274577</td>\n",
       "      <td>-0.509206</td>\n",
       "    </tr>\n",
       "    <tr>\n",
       "      <th>167</th>\n",
       "      <td>2.067245</td>\n",
       "      <td>0.845602</td>\n",
       "      <td>-0.610282</td>\n",
       "      <td>-1.714172</td>\n",
       "      <td>0.116958</td>\n",
       "      <td>-0.504338</td>\n",
       "    </tr>\n",
       "    <tr>\n",
       "      <th>168</th>\n",
       "      <td>0.739257</td>\n",
       "      <td>-0.972965</td>\n",
       "      <td>-1.359772</td>\n",
       "      <td>-0.191736</td>\n",
       "      <td>-0.243557</td>\n",
       "      <td>0.211429</td>\n",
       "    </tr>\n",
       "    <tr>\n",
       "      <th>169</th>\n",
       "      <td>1.504992</td>\n",
       "      <td>-1.079725</td>\n",
       "      <td>0.188889</td>\n",
       "      <td>-1.347552</td>\n",
       "      <td>-0.289149</td>\n",
       "      <td>-0.060346</td>\n",
       "    </tr>\n",
       "  </tbody>\n",
       "</table>\n",
       "<p>170 rows × 6 columns</p>\n",
       "</div>"
      ],
      "text/plain": [
       "            0         1         2         3         4         5\n",
       "0    2.153639  1.599709  1.787451  2.433465  0.699690 -1.267702\n",
       "1   -2.110416 -0.526039  0.542563  0.344550  0.067440 -0.544601\n",
       "2   -1.973152 -0.048102  0.858716  0.374812 -0.424886  0.080487\n",
       "3   -2.059795 -0.089105 -0.531529  0.519548 -0.033267 -0.038261\n",
       "4   -2.403180  0.412170  3.319507 -0.837043 -0.420151 -0.445099\n",
       "..        ...       ...       ...       ...       ...       ...\n",
       "165  2.478626  0.189974 -0.814598  0.107861 -0.899828  0.093078\n",
       "166  2.585331  2.914472  0.586789 -2.183704  0.274577 -0.509206\n",
       "167  2.067245  0.845602 -0.610282 -1.714172  0.116958 -0.504338\n",
       "168  0.739257 -0.972965 -1.359772 -0.191736 -0.243557  0.211429\n",
       "169  1.504992 -1.079725  0.188889 -1.347552 -0.289149 -0.060346\n",
       "\n",
       "[170 rows x 6 columns]"
      ]
     },
     "execution_count": 21,
     "metadata": {},
     "output_type": "execute_result"
    }
   ],
   "source": [
    "X_projected = pca.transform(X_scaled)\n",
    "PDX_projected = pd.DataFrame(X_projected)\n",
    "PDX_projected"
   ]
  },
  {
   "cell_type": "code",
   "execution_count": 22,
   "metadata": {},
   "outputs": [
    {
     "data": {
      "image/png": "[encoded data removed]",
      "text/plain": [
       "<Figure size 1080x1080 with 1 Axes>"
      ]
     },
     "metadata": {
      "needs_background": "light"
     },
     "output_type": "display_data"
    }
   ],
   "source": [
    "\n",
    "display_factorial_planes(X_projected, 6, pca, [(0,1)], alpha = 0.5, illustrative_var= data_raw['is_genuine'])"
   ]
  },
  {
   "cell_type": "markdown",
   "metadata": {},
   "source": [
    "Pour calculer la qualité de\n",
    "représentation des individus sur les axes, nous devons d’abord calculer les carrés des\n",
    "distances à l’origine des individus, qui correspondent également à leur contribution dans\n",
    "l’inertie totale.\n",
    "\n",
    "la qualite de representation d'un point equivaut au carre du rapport distance a l'origine sur l'axe / distance a l'origine dans l'espace centre reduit. le point sera bien represente si le rapport est proche de 1.\n",
    "\n",
    "\n"
   ]
  },
  {
   "cell_type": "code",
   "execution_count": 23,
   "metadata": {},
   "outputs": [],
   "source": [
    "di_1 = np.sum(X_projected**2, axis=1)\n",
    "di_2 = np.sum(X_scaled**2, axis=1)"
   ]
  },
  {
   "cell_type": "code",
   "execution_count": 24,
   "metadata": {},
   "outputs": [
    {
     "data": {
      "text/plain": [
       "array([18.41059773,  5.44479913,  4.96052735,  4.80571914, 18.03956654,\n",
       "       11.52798451,  8.02902542,  9.34433795,  5.96163957,  2.37365021,\n",
       "        6.92508658,  5.88603767,  5.57845059,  3.5044568 ,  2.77630174,\n",
       "        9.07121651,  4.15309085,  5.38514092,  7.6671102 ,  2.38556352,\n",
       "        4.07607735,  6.0203732 ,  4.11416571,  6.23396493,  3.62379624,\n",
       "        6.15858354,  5.94010181,  3.98683368,  3.19411016, 10.11756139,\n",
       "        2.94088917,  6.09251356,  1.71688508,  4.55893873,  8.37458933,\n",
       "        3.51841501,  4.97705146,  5.95033666,  5.93744942, 15.05260763,\n",
       "        9.97693432,  1.8297429 ,  7.16773035,  2.02462891,  8.78316767,\n",
       "        8.94982931,  1.77757668,  3.95123443,  2.19892131, 12.91753759,\n",
       "        4.79002473,  4.23080101,  2.45674953,  4.35876105,  7.72427349,\n",
       "        6.1239637 ,  5.48012126,  7.13679973,  1.80995634,  1.48445407,\n",
       "        5.69862224,  5.85175785,  5.10759065,  3.07860308,  0.81392884,\n",
       "        2.21875606,  7.52176771,  6.47897254,  3.9393141 ,  2.44685898,\n",
       "       11.048897  ,  2.74769093,  2.91932326,  5.23262124,  4.33314433,\n",
       "        9.84711942,  1.43520162,  3.83595073,  3.60955938,  4.926785  ,\n",
       "        1.99015956,  2.65565784,  7.79525587,  1.65997622,  5.69764687,\n",
       "        1.43166392,  3.60722856,  6.47452352,  3.49806566,  2.61167658,\n",
       "        5.42368799,  3.14105629,  7.03087912,  7.92673229,  4.96524312,\n",
       "        6.30552633,  2.24943293,  5.19244816,  0.87831925,  3.8561809 ,\n",
       "        5.5688168 ,  8.24949454,  2.48227632,  4.32095185,  5.01625289,\n",
       "        2.41691215,  5.8859856 ,  3.53468088,  5.46756675,  8.41345657,\n",
       "        5.24440797,  4.42253563, 14.4224069 ,  4.41675484,  1.98718233,\n",
       "        6.00050699,  6.56355806,  6.12081607,  5.30413918,  7.77698463,\n",
       "        7.76363695, 10.58496574, 16.79094386,  6.6032075 ,  4.38943024,\n",
       "        3.11163617,  3.55928454,  8.90174138,  2.11411033,  8.68611228,\n",
       "        4.74151539,  8.61670938,  4.60521055,  6.58839594,  6.67765836,\n",
       "        5.3924422 ,  4.98114436,  8.8121459 ,  5.88282436,  6.17987829,\n",
       "        6.14459802,  4.971415  ,  8.99597379,  5.27231045,  5.45519303,\n",
       "        7.40503029,  8.43289996, 10.50035001,  3.7739851 ,  6.09522892,\n",
       "        3.74361101, 13.63728092,  6.21507616, 10.55796986,  6.14369375,\n",
       "        6.85966004,  7.86246956,  5.22801467, 12.72463941, 12.43817122,\n",
       "       12.83116937,  6.24694631,  4.39935344,  5.80003923,  6.4748058 ,\n",
       "        7.67323314, 20.62565035,  8.56741034,  3.482926  ,  5.36963287])"
      ]
     },
     "execution_count": 24,
     "metadata": {},
     "output_type": "execute_result"
    }
   ],
   "source": [
    "# on calcule les distances a l'origine, cela correspond aussi a leur contribution a l'inertie totale\n",
    "di = np.sum(X_projected**2, axis=1)\n",
    "di"
   ]
  },
  {
   "cell_type": "code",
   "execution_count": 25,
   "metadata": {},
   "outputs": [
    {
     "data": {
      "text/html": [
       "<div>\n",
       "<style scoped>\n",
       "    .dataframe tbody tr th:only-of-type {\n",
       "        vertical-align: middle;\n",
       "    }\n",
       "\n",
       "    .dataframe tbody tr th {\n",
       "        vertical-align: top;\n",
       "    }\n",
       "\n",
       "    .dataframe thead th {\n",
       "        text-align: right;\n",
       "    }\n",
       "</style>\n",
       "<table border=\"1\" class=\"dataframe\">\n",
       "  <thead>\n",
       "    <tr style=\"text-align: right;\">\n",
       "      <th></th>\n",
       "      <th>0</th>\n",
       "    </tr>\n",
       "  </thead>\n",
       "  <tbody>\n",
       "    <tr>\n",
       "      <th>count</th>\n",
       "      <td>170.000000</td>\n",
       "    </tr>\n",
       "    <tr>\n",
       "      <th>mean</th>\n",
       "      <td>6.000000</td>\n",
       "    </tr>\n",
       "    <tr>\n",
       "      <th>std</th>\n",
       "      <td>3.404715</td>\n",
       "    </tr>\n",
       "    <tr>\n",
       "      <th>min</th>\n",
       "      <td>0.813929</td>\n",
       "    </tr>\n",
       "    <tr>\n",
       "      <th>25%</th>\n",
       "      <td>3.751205</td>\n",
       "    </tr>\n",
       "    <tr>\n",
       "      <th>50%</th>\n",
       "      <td>5.461380</td>\n",
       "    </tr>\n",
       "    <tr>\n",
       "      <th>75%</th>\n",
       "      <td>7.492583</td>\n",
       "    </tr>\n",
       "    <tr>\n",
       "      <th>max</th>\n",
       "      <td>20.625650</td>\n",
       "    </tr>\n",
       "  </tbody>\n",
       "</table>\n",
       "</div>"
      ],
      "text/plain": [
       "                0\n",
       "count  170.000000\n",
       "mean     6.000000\n",
       "std      3.404715\n",
       "min      0.813929\n",
       "25%      3.751205\n",
       "50%      5.461380\n",
       "75%      7.492583\n",
       "max     20.625650"
      ]
     },
     "execution_count": 25,
     "metadata": {},
     "output_type": "execute_result"
    }
   ],
   "source": [
    "PDdi= pd.DataFrame(di)\n",
    "PDdi.describe()"
   ]
  },
  {
   "cell_type": "markdown",
   "metadata": {},
   "source": [
    "la contribution des points sur l'axe correspond alors a leur distance de leur projection a l'origine sur l'axe au carre / leur distance a l'origine"
   ]
  },
  {
   "cell_type": "code",
   "execution_count": 26,
   "metadata": {},
   "outputs": [
    {
     "data": {
      "text/plain": [
       "array([[4.63815987e+00, 2.55907031e+00, 3.19498033e+00, 5.92175300e+00,\n",
       "        4.89565430e-01, 1.60706879e+00],\n",
       "       [4.45385524e+00, 2.76716945e-01, 2.94374363e-01, 1.18714362e-01,\n",
       "        4.54820714e-03, 2.96590018e-01],\n",
       "       [3.89333047e+00, 2.31378154e-03, 7.37392525e-01, 1.40484270e-01,\n",
       "        1.80528200e-01, 6.47810418e-03],\n",
       "       ...,\n",
       "       [4.27350197e+00, 7.15043491e-01, 3.72444450e-01, 2.93838459e+00,\n",
       "        1.36791513e-02, 2.54356689e-01],\n",
       "       [5.46500686e-01, 9.46660047e-01, 1.84898021e+00, 3.67627598e-02,\n",
       "        5.93200176e-02, 4.47022820e-02],\n",
       "       [2.26500220e+00, 1.16580577e+00, 3.56788833e-02, 1.81589707e+00,\n",
       "        8.36073155e-02, 3.64163899e-03]])"
      ]
     },
     "execution_count": 26,
     "metadata": {},
     "output_type": "execute_result"
    }
   ],
   "source": [
    "cos2 = X_projected**2\n",
    "cos2"
   ]
  },
  {
   "cell_type": "code",
   "execution_count": 27,
   "metadata": {},
   "outputs": [],
   "source": [
    "pd_dict = {}\n",
    "for j in range(6):\n",
    "    cos2[:,j] = cos2[:,j]/di\n",
    "    pd_dict.update({'Qual_F'+ str(j): cos2[:,j]})"
   ]
  },
  {
   "cell_type": "code",
   "execution_count": 28,
   "metadata": {},
   "outputs": [
    {
     "data": {
      "text/html": [
       "<div>\n",
       "<style scoped>\n",
       "    .dataframe tbody tr th:only-of-type {\n",
       "        vertical-align: middle;\n",
       "    }\n",
       "\n",
       "    .dataframe tbody tr th {\n",
       "        vertical-align: top;\n",
       "    }\n",
       "\n",
       "    .dataframe thead th {\n",
       "        text-align: right;\n",
       "    }\n",
       "</style>\n",
       "<table border=\"1\" class=\"dataframe\">\n",
       "  <thead>\n",
       "    <tr style=\"text-align: right;\">\n",
       "      <th></th>\n",
       "      <th>Qual_F0</th>\n",
       "      <th>Qual_F1</th>\n",
       "      <th>Qual_F2</th>\n",
       "      <th>Qual_F3</th>\n",
       "      <th>Qual_F4</th>\n",
       "      <th>Qual_F5</th>\n",
       "    </tr>\n",
       "  </thead>\n",
       "  <tbody>\n",
       "    <tr>\n",
       "      <th>0</th>\n",
       "      <td>0.251929</td>\n",
       "      <td>0.139000</td>\n",
       "      <td>0.173540</td>\n",
       "      <td>0.321649</td>\n",
       "      <td>0.026592</td>\n",
       "      <td>0.087290</td>\n",
       "    </tr>\n",
       "    <tr>\n",
       "      <th>1</th>\n",
       "      <td>0.818002</td>\n",
       "      <td>0.050822</td>\n",
       "      <td>0.054065</td>\n",
       "      <td>0.021803</td>\n",
       "      <td>0.000835</td>\n",
       "      <td>0.054472</td>\n",
       "    </tr>\n",
       "    <tr>\n",
       "      <th>2</th>\n",
       "      <td>0.784862</td>\n",
       "      <td>0.000466</td>\n",
       "      <td>0.148652</td>\n",
       "      <td>0.028320</td>\n",
       "      <td>0.036393</td>\n",
       "      <td>0.001306</td>\n",
       "    </tr>\n",
       "    <tr>\n",
       "      <th>3</th>\n",
       "      <td>0.882856</td>\n",
       "      <td>0.001652</td>\n",
       "      <td>0.058789</td>\n",
       "      <td>0.056169</td>\n",
       "      <td>0.000230</td>\n",
       "      <td>0.000305</td>\n",
       "    </tr>\n",
       "    <tr>\n",
       "      <th>4</th>\n",
       "      <td>0.320145</td>\n",
       "      <td>0.009417</td>\n",
       "      <td>0.610831</td>\n",
       "      <td>0.038839</td>\n",
       "      <td>0.009786</td>\n",
       "      <td>0.010982</td>\n",
       "    </tr>\n",
       "    <tr>\n",
       "      <th>...</th>\n",
       "      <td>...</td>\n",
       "      <td>...</td>\n",
       "      <td>...</td>\n",
       "      <td>...</td>\n",
       "      <td>...</td>\n",
       "      <td>...</td>\n",
       "    </tr>\n",
       "    <tr>\n",
       "      <th>165</th>\n",
       "      <td>0.800651</td>\n",
       "      <td>0.004703</td>\n",
       "      <td>0.086479</td>\n",
       "      <td>0.001516</td>\n",
       "      <td>0.105521</td>\n",
       "      <td>0.001129</td>\n",
       "    </tr>\n",
       "    <tr>\n",
       "      <th>166</th>\n",
       "      <td>0.324059</td>\n",
       "      <td>0.411824</td>\n",
       "      <td>0.016694</td>\n",
       "      <td>0.231196</td>\n",
       "      <td>0.003655</td>\n",
       "      <td>0.012571</td>\n",
       "    </tr>\n",
       "    <tr>\n",
       "      <th>167</th>\n",
       "      <td>0.498809</td>\n",
       "      <td>0.083461</td>\n",
       "      <td>0.043472</td>\n",
       "      <td>0.342972</td>\n",
       "      <td>0.001597</td>\n",
       "      <td>0.029689</td>\n",
       "    </tr>\n",
       "    <tr>\n",
       "      <th>168</th>\n",
       "      <td>0.156908</td>\n",
       "      <td>0.271800</td>\n",
       "      <td>0.530870</td>\n",
       "      <td>0.010555</td>\n",
       "      <td>0.017032</td>\n",
       "      <td>0.012835</td>\n",
       "    </tr>\n",
       "    <tr>\n",
       "      <th>169</th>\n",
       "      <td>0.421817</td>\n",
       "      <td>0.217111</td>\n",
       "      <td>0.006645</td>\n",
       "      <td>0.338179</td>\n",
       "      <td>0.015570</td>\n",
       "      <td>0.000678</td>\n",
       "    </tr>\n",
       "  </tbody>\n",
       "</table>\n",
       "<p>170 rows × 6 columns</p>\n",
       "</div>"
      ],
      "text/plain": [
       "      Qual_F0   Qual_F1   Qual_F2   Qual_F3   Qual_F4   Qual_F5\n",
       "0    0.251929  0.139000  0.173540  0.321649  0.026592  0.087290\n",
       "1    0.818002  0.050822  0.054065  0.021803  0.000835  0.054472\n",
       "2    0.784862  0.000466  0.148652  0.028320  0.036393  0.001306\n",
       "3    0.882856  0.001652  0.058789  0.056169  0.000230  0.000305\n",
       "4    0.320145  0.009417  0.610831  0.038839  0.009786  0.010982\n",
       "..        ...       ...       ...       ...       ...       ...\n",
       "165  0.800651  0.004703  0.086479  0.001516  0.105521  0.001129\n",
       "166  0.324059  0.411824  0.016694  0.231196  0.003655  0.012571\n",
       "167  0.498809  0.083461  0.043472  0.342972  0.001597  0.029689\n",
       "168  0.156908  0.271800  0.530870  0.010555  0.017032  0.012835\n",
       "169  0.421817  0.217111  0.006645  0.338179  0.015570  0.000678\n",
       "\n",
       "[170 rows x 6 columns]"
      ]
     },
     "execution_count": 28,
     "metadata": {},
     "output_type": "execute_result"
    }
   ],
   "source": [
    "qual_representation = pd.DataFrame(pd_dict)\n",
    "qual_representation"
   ]
  },
  {
   "cell_type": "code",
   "execution_count": 29,
   "metadata": {},
   "outputs": [
    {
     "name": "stdout",
     "output_type": "stream",
     "text": [
      "[1. 1. 1. 1. 1. 1. 1. 1. 1. 1. 1. 1. 1. 1. 1. 1. 1. 1. 1. 1. 1. 1. 1. 1.\n",
      " 1. 1. 1. 1. 1. 1. 1. 1. 1. 1. 1. 1. 1. 1. 1. 1. 1. 1. 1. 1. 1. 1. 1. 1.\n",
      " 1. 1. 1. 1. 1. 1. 1. 1. 1. 1. 1. 1. 1. 1. 1. 1. 1. 1. 1. 1. 1. 1. 1. 1.\n",
      " 1. 1. 1. 1. 1. 1. 1. 1. 1. 1. 1. 1. 1. 1. 1. 1. 1. 1. 1. 1. 1. 1. 1. 1.\n",
      " 1. 1. 1. 1. 1. 1. 1. 1. 1. 1. 1. 1. 1. 1. 1. 1. 1. 1. 1. 1. 1. 1. 1. 1.\n",
      " 1. 1. 1. 1. 1. 1. 1. 1. 1. 1. 1. 1. 1. 1. 1. 1. 1. 1. 1. 1. 1. 1. 1. 1.\n",
      " 1. 1. 1. 1. 1. 1. 1. 1. 1. 1. 1. 1. 1. 1. 1. 1. 1. 1. 1. 1. 1. 1. 1. 1.\n",
      " 1. 1.]\n"
     ]
    }
   ],
   "source": [
    "print(np.sum(cos2,axis=1)) # Variance a 1 des donnees centrees reduites"
   ]
  },
  {
   "cell_type": "code",
   "execution_count": 30,
   "metadata": {},
   "outputs": [],
   "source": [
    "# cos2.shape"
   ]
  },
  {
   "cell_type": "code",
   "execution_count": 31,
   "metadata": {},
   "outputs": [
    {
     "data": {
      "text/plain": [
       "array([2.86372065, 1.32522178, 0.85912514, 0.51460481, 0.27840703,\n",
       "       0.19442354])"
      ]
     },
     "execution_count": 31,
     "metadata": {},
     "output_type": "execute_result"
    }
   ],
   "source": [
    "# poids de chaque axe par rapport a l'inertie totale / contribution des axes  C'est l'inertie projetée du nuage NI\n",
    "pca.explained_variance_"
   ]
  },
  {
   "cell_type": "code",
   "execution_count": 32,
   "metadata": {},
   "outputs": [],
   "source": [
    "#contributions aux axes\n",
    "ctr = X_projected**2\n",
    "for j in range(6):\n",
    "    ctr[:,j] = ctr[:,j]/(X_projected.shape[0] * pca.explained_variance_[j])"
   ]
  },
  {
   "cell_type": "code",
   "execution_count": 33,
   "metadata": {},
   "outputs": [
    {
     "data": {
      "text/html": [
       "<div>\n",
       "<style scoped>\n",
       "    .dataframe tbody tr th:only-of-type {\n",
       "        vertical-align: middle;\n",
       "    }\n",
       "\n",
       "    .dataframe tbody tr th {\n",
       "        vertical-align: top;\n",
       "    }\n",
       "\n",
       "    .dataframe thead th {\n",
       "        text-align: right;\n",
       "    }\n",
       "</style>\n",
       "<table border=\"1\" class=\"dataframe\">\n",
       "  <thead>\n",
       "    <tr style=\"text-align: right;\">\n",
       "      <th></th>\n",
       "      <th>CTR_1</th>\n",
       "      <th>CTR_2</th>\n",
       "    </tr>\n",
       "  </thead>\n",
       "  <tbody>\n",
       "    <tr>\n",
       "      <th>0</th>\n",
       "      <td>0.009527</td>\n",
       "      <td>0.011359</td>\n",
       "    </tr>\n",
       "    <tr>\n",
       "      <th>1</th>\n",
       "      <td>0.009149</td>\n",
       "      <td>0.001228</td>\n",
       "    </tr>\n",
       "    <tr>\n",
       "      <th>2</th>\n",
       "      <td>0.007997</td>\n",
       "      <td>0.000010</td>\n",
       "    </tr>\n",
       "    <tr>\n",
       "      <th>3</th>\n",
       "      <td>0.008715</td>\n",
       "      <td>0.000035</td>\n",
       "    </tr>\n",
       "    <tr>\n",
       "      <th>4</th>\n",
       "      <td>0.011863</td>\n",
       "      <td>0.000754</td>\n",
       "    </tr>\n",
       "    <tr>\n",
       "      <th>...</th>\n",
       "      <td>...</td>\n",
       "      <td>...</td>\n",
       "    </tr>\n",
       "    <tr>\n",
       "      <th>165</th>\n",
       "      <td>0.012620</td>\n",
       "      <td>0.000160</td>\n",
       "    </tr>\n",
       "    <tr>\n",
       "      <th>166</th>\n",
       "      <td>0.013729</td>\n",
       "      <td>0.037704</td>\n",
       "    </tr>\n",
       "    <tr>\n",
       "      <th>167</th>\n",
       "      <td>0.008778</td>\n",
       "      <td>0.003174</td>\n",
       "    </tr>\n",
       "    <tr>\n",
       "      <th>168</th>\n",
       "      <td>0.001123</td>\n",
       "      <td>0.004202</td>\n",
       "    </tr>\n",
       "    <tr>\n",
       "      <th>169</th>\n",
       "      <td>0.004653</td>\n",
       "      <td>0.005175</td>\n",
       "    </tr>\n",
       "  </tbody>\n",
       "</table>\n",
       "<p>170 rows × 2 columns</p>\n",
       "</div>"
      ],
      "text/plain": [
       "        CTR_1     CTR_2\n",
       "0    0.009527  0.011359\n",
       "1    0.009149  0.001228\n",
       "2    0.007997  0.000010\n",
       "3    0.008715  0.000035\n",
       "4    0.011863  0.000754\n",
       "..        ...       ...\n",
       "165  0.012620  0.000160\n",
       "166  0.013729  0.037704\n",
       "167  0.008778  0.003174\n",
       "168  0.001123  0.004202\n",
       "169  0.004653  0.005175\n",
       "\n",
       "[170 rows x 2 columns]"
      ]
     },
     "execution_count": 33,
     "metadata": {},
     "output_type": "execute_result"
    }
   ],
   "source": [
    "ctr_sur_axe = pd.DataFrame({'CTR_1': ctr[:,0], 'CTR_2': ctr[:,1]})\n",
    "ctr_sur_axe"
   ]
  },
  {
   "cell_type": "code",
   "execution_count": 34,
   "metadata": {},
   "outputs": [
    {
     "data": {
      "text/plain": [
       "CTR_1    0.994118\n",
       "CTR_2    0.994118\n",
       "dtype: float64"
      ]
     },
     "execution_count": 34,
     "metadata": {},
     "output_type": "execute_result"
    }
   ],
   "source": [
    "ctr_sur_axe.sum() # somme des contributions a 1 sur chaque axe"
   ]
  },
  {
   "cell_type": "markdown",
   "metadata": {},
   "source": [
    "# Mission 2: Classification"
   ]
  },
  {
   "cell_type": "code",
   "execution_count": 35,
   "metadata": {},
   "outputs": [
    {
     "data": {
      "text/plain": [
       "KMeans(algorithm='auto', copy_x=True, init='k-means++', max_iter=300,\n",
       "       n_clusters=2, n_init=10, n_jobs=None, precompute_distances='auto',\n",
       "       random_state=None, tol=0.0001, verbose=0)"
      ]
     },
     "execution_count": 35,
     "metadata": {},
     "output_type": "execute_result"
    }
   ],
   "source": [
    "from sklearn.cluster import KMeans\n",
    "km=KMeans(2)\n",
    "km.fit(X_scaled)"
   ]
  },
  {
   "cell_type": "code",
   "execution_count": 36,
   "metadata": {},
   "outputs": [],
   "source": [
    "data_raw[\"Cluster\"]= km.labels_"
   ]
  },
  {
   "cell_type": "code",
   "execution_count": 37,
   "metadata": {},
   "outputs": [
    {
     "data": {
      "text/html": [
       "<div>\n",
       "<style scoped>\n",
       "    .dataframe tbody tr th:only-of-type {\n",
       "        vertical-align: middle;\n",
       "    }\n",
       "\n",
       "    .dataframe tbody tr th {\n",
       "        vertical-align: top;\n",
       "    }\n",
       "\n",
       "    .dataframe thead th {\n",
       "        text-align: right;\n",
       "    }\n",
       "</style>\n",
       "<table border=\"1\" class=\"dataframe\">\n",
       "  <thead>\n",
       "    <tr style=\"text-align: right;\">\n",
       "      <th></th>\n",
       "      <th>is_genuine</th>\n",
       "      <th>diagonal</th>\n",
       "      <th>height_left</th>\n",
       "      <th>height_right</th>\n",
       "      <th>margin_low</th>\n",
       "      <th>margin_up</th>\n",
       "      <th>length</th>\n",
       "      <th>Cluster</th>\n",
       "    </tr>\n",
       "  </thead>\n",
       "  <tbody>\n",
       "    <tr>\n",
       "      <th>0</th>\n",
       "      <td>True</td>\n",
       "      <td>171.81</td>\n",
       "      <td>104.86</td>\n",
       "      <td>104.95</td>\n",
       "      <td>4.52</td>\n",
       "      <td>2.89</td>\n",
       "      <td>112.83</td>\n",
       "      <td>1</td>\n",
       "    </tr>\n",
       "    <tr>\n",
       "      <th>1</th>\n",
       "      <td>True</td>\n",
       "      <td>171.67</td>\n",
       "      <td>103.74</td>\n",
       "      <td>103.70</td>\n",
       "      <td>4.01</td>\n",
       "      <td>2.87</td>\n",
       "      <td>113.29</td>\n",
       "      <td>0</td>\n",
       "    </tr>\n",
       "    <tr>\n",
       "      <th>2</th>\n",
       "      <td>True</td>\n",
       "      <td>171.83</td>\n",
       "      <td>103.76</td>\n",
       "      <td>103.76</td>\n",
       "      <td>4.40</td>\n",
       "      <td>2.88</td>\n",
       "      <td>113.84</td>\n",
       "      <td>0</td>\n",
       "    </tr>\n",
       "    <tr>\n",
       "      <th>3</th>\n",
       "      <td>True</td>\n",
       "      <td>171.80</td>\n",
       "      <td>103.78</td>\n",
       "      <td>103.65</td>\n",
       "      <td>3.73</td>\n",
       "      <td>3.12</td>\n",
       "      <td>113.63</td>\n",
       "      <td>0</td>\n",
       "    </tr>\n",
       "    <tr>\n",
       "      <th>4</th>\n",
       "      <td>True</td>\n",
       "      <td>172.05</td>\n",
       "      <td>103.70</td>\n",
       "      <td>103.75</td>\n",
       "      <td>5.04</td>\n",
       "      <td>2.27</td>\n",
       "      <td>113.55</td>\n",
       "      <td>0</td>\n",
       "    </tr>\n",
       "    <tr>\n",
       "      <th>...</th>\n",
       "      <td>...</td>\n",
       "      <td>...</td>\n",
       "      <td>...</td>\n",
       "      <td>...</td>\n",
       "      <td>...</td>\n",
       "      <td>...</td>\n",
       "      <td>...</td>\n",
       "      <td>...</td>\n",
       "    </tr>\n",
       "    <tr>\n",
       "      <th>165</th>\n",
       "      <td>False</td>\n",
       "      <td>172.11</td>\n",
       "      <td>104.23</td>\n",
       "      <td>104.45</td>\n",
       "      <td>5.24</td>\n",
       "      <td>3.58</td>\n",
       "      <td>111.78</td>\n",
       "      <td>1</td>\n",
       "    </tr>\n",
       "    <tr>\n",
       "      <th>166</th>\n",
       "      <td>False</td>\n",
       "      <td>173.01</td>\n",
       "      <td>104.59</td>\n",
       "      <td>104.31</td>\n",
       "      <td>5.04</td>\n",
       "      <td>3.05</td>\n",
       "      <td>110.91</td>\n",
       "      <td>1</td>\n",
       "    </tr>\n",
       "    <tr>\n",
       "      <th>167</th>\n",
       "      <td>False</td>\n",
       "      <td>172.47</td>\n",
       "      <td>104.27</td>\n",
       "      <td>104.10</td>\n",
       "      <td>4.88</td>\n",
       "      <td>3.33</td>\n",
       "      <td>110.68</td>\n",
       "      <td>1</td>\n",
       "    </tr>\n",
       "    <tr>\n",
       "      <th>168</th>\n",
       "      <td>False</td>\n",
       "      <td>171.82</td>\n",
       "      <td>103.97</td>\n",
       "      <td>103.88</td>\n",
       "      <td>4.73</td>\n",
       "      <td>3.55</td>\n",
       "      <td>111.87</td>\n",
       "      <td>1</td>\n",
       "    </tr>\n",
       "    <tr>\n",
       "      <th>169</th>\n",
       "      <td>False</td>\n",
       "      <td>171.96</td>\n",
       "      <td>104.00</td>\n",
       "      <td>103.95</td>\n",
       "      <td>5.63</td>\n",
       "      <td>3.26</td>\n",
       "      <td>110.96</td>\n",
       "      <td>1</td>\n",
       "    </tr>\n",
       "  </tbody>\n",
       "</table>\n",
       "<p>170 rows × 8 columns</p>\n",
       "</div>"
      ],
      "text/plain": [
       "     is_genuine  diagonal  height_left  height_right  margin_low  margin_up  \\\n",
       "0          True    171.81       104.86        104.95        4.52       2.89   \n",
       "1          True    171.67       103.74        103.70        4.01       2.87   \n",
       "2          True    171.83       103.76        103.76        4.40       2.88   \n",
       "3          True    171.80       103.78        103.65        3.73       3.12   \n",
       "4          True    172.05       103.70        103.75        5.04       2.27   \n",
       "..          ...       ...          ...           ...         ...        ...   \n",
       "165       False    172.11       104.23        104.45        5.24       3.58   \n",
       "166       False    173.01       104.59        104.31        5.04       3.05   \n",
       "167       False    172.47       104.27        104.10        4.88       3.33   \n",
       "168       False    171.82       103.97        103.88        4.73       3.55   \n",
       "169       False    171.96       104.00        103.95        5.63       3.26   \n",
       "\n",
       "     length  Cluster  \n",
       "0    112.83        1  \n",
       "1    113.29        0  \n",
       "2    113.84        0  \n",
       "3    113.63        0  \n",
       "4    113.55        0  \n",
       "..      ...      ...  \n",
       "165  111.78        1  \n",
       "166  110.91        1  \n",
       "167  110.68        1  \n",
       "168  111.87        1  \n",
       "169  110.96        1  \n",
       "\n",
       "[170 rows x 8 columns]"
      ]
     },
     "execution_count": 37,
     "metadata": {},
     "output_type": "execute_result"
    }
   ],
   "source": [
    "data_raw"
   ]
  },
  {
   "cell_type": "code",
   "execution_count": 38,
   "metadata": {},
   "outputs": [
    {
     "data": {
      "text/html": [
       "<div>\n",
       "<style scoped>\n",
       "    .dataframe tbody tr th:only-of-type {\n",
       "        vertical-align: middle;\n",
       "    }\n",
       "\n",
       "    .dataframe tbody tr th {\n",
       "        vertical-align: top;\n",
       "    }\n",
       "\n",
       "    .dataframe thead th {\n",
       "        text-align: right;\n",
       "    }\n",
       "</style>\n",
       "<table border=\"1\" class=\"dataframe\">\n",
       "  <thead>\n",
       "    <tr style=\"text-align: right;\">\n",
       "      <th></th>\n",
       "      <th>Cluster</th>\n",
       "      <th>is_genuine</th>\n",
       "    </tr>\n",
       "  </thead>\n",
       "  <tbody>\n",
       "    <tr>\n",
       "      <th>0</th>\n",
       "      <td>1</td>\n",
       "      <td>True</td>\n",
       "    </tr>\n",
       "    <tr>\n",
       "      <th>1</th>\n",
       "      <td>0</td>\n",
       "      <td>True</td>\n",
       "    </tr>\n",
       "    <tr>\n",
       "      <th>2</th>\n",
       "      <td>0</td>\n",
       "      <td>True</td>\n",
       "    </tr>\n",
       "    <tr>\n",
       "      <th>3</th>\n",
       "      <td>0</td>\n",
       "      <td>True</td>\n",
       "    </tr>\n",
       "    <tr>\n",
       "      <th>4</th>\n",
       "      <td>0</td>\n",
       "      <td>True</td>\n",
       "    </tr>\n",
       "    <tr>\n",
       "      <th>...</th>\n",
       "      <td>...</td>\n",
       "      <td>...</td>\n",
       "    </tr>\n",
       "    <tr>\n",
       "      <th>165</th>\n",
       "      <td>1</td>\n",
       "      <td>False</td>\n",
       "    </tr>\n",
       "    <tr>\n",
       "      <th>166</th>\n",
       "      <td>1</td>\n",
       "      <td>False</td>\n",
       "    </tr>\n",
       "    <tr>\n",
       "      <th>167</th>\n",
       "      <td>1</td>\n",
       "      <td>False</td>\n",
       "    </tr>\n",
       "    <tr>\n",
       "      <th>168</th>\n",
       "      <td>1</td>\n",
       "      <td>False</td>\n",
       "    </tr>\n",
       "    <tr>\n",
       "      <th>169</th>\n",
       "      <td>1</td>\n",
       "      <td>False</td>\n",
       "    </tr>\n",
       "  </tbody>\n",
       "</table>\n",
       "<p>170 rows × 2 columns</p>\n",
       "</div>"
      ],
      "text/plain": [
       "     Cluster  is_genuine\n",
       "0          1        True\n",
       "1          0        True\n",
       "2          0        True\n",
       "3          0        True\n",
       "4          0        True\n",
       "..       ...         ...\n",
       "165        1       False\n",
       "166        1       False\n",
       "167        1       False\n",
       "168        1       False\n",
       "169        1       False\n",
       "\n",
       "[170 rows x 2 columns]"
      ]
     },
     "execution_count": 38,
     "metadata": {},
     "output_type": "execute_result"
    }
   ],
   "source": [
    "extract = data_raw.loc[:, [\"Cluster\", \"is_genuine\"]]\n",
    "extract"
   ]
  },
  {
   "cell_type": "code",
   "execution_count": 39,
   "metadata": {},
   "outputs": [
    {
     "data": {
      "text/html": [
       "<div>\n",
       "<style scoped>\n",
       "    .dataframe tbody tr th:only-of-type {\n",
       "        vertical-align: middle;\n",
       "    }\n",
       "\n",
       "    .dataframe tbody tr th {\n",
       "        vertical-align: top;\n",
       "    }\n",
       "\n",
       "    .dataframe thead th {\n",
       "        text-align: right;\n",
       "    }\n",
       "</style>\n",
       "<table border=\"1\" class=\"dataframe\">\n",
       "  <thead>\n",
       "    <tr style=\"text-align: right;\">\n",
       "      <th>is_genuine</th>\n",
       "      <th>False</th>\n",
       "      <th>True</th>\n",
       "    </tr>\n",
       "    <tr>\n",
       "      <th>Cluster</th>\n",
       "      <th></th>\n",
       "      <th></th>\n",
       "    </tr>\n",
       "  </thead>\n",
       "  <tbody>\n",
       "    <tr>\n",
       "      <th>0</th>\n",
       "      <td>1</td>\n",
       "      <td>93</td>\n",
       "    </tr>\n",
       "    <tr>\n",
       "      <th>1</th>\n",
       "      <td>69</td>\n",
       "      <td>7</td>\n",
       "    </tr>\n",
       "  </tbody>\n",
       "</table>\n",
       "</div>"
      ],
      "text/plain": [
       "is_genuine  False  True \n",
       "Cluster                 \n",
       "0               1     93\n",
       "1              69      7"
      ]
     },
     "execution_count": 39,
     "metadata": {},
     "output_type": "execute_result"
    }
   ],
   "source": [
    "extract.pivot_table(index='Cluster', columns='is_genuine', aggfunc=lambda x: len(x))"
   ]
  },
  {
   "cell_type": "markdown",
   "metadata": {},
   "source": [
    "On voit que 99% des points dans le cluster 0 sont vrais. La classification via Kmeans est concluante."
   ]
  },
  {
   "cell_type": "code",
   "execution_count": 40,
   "metadata": {
    "scrolled": false
   },
   "outputs": [
    {
     "data": {
      "image/png": "[encoded data removed]",
      "text/plain": [
       "<Figure size 1080x1080 with 1 Axes>"
      ]
     },
     "metadata": {
      "needs_background": "light"
     },
     "output_type": "display_data"
    }
   ],
   "source": [
    "display_factorial_planes(X_projected, 6, pca, [(0,1)], alpha = 0.5, illustrative_var= data_raw['Cluster'])"
   ]
  },
  {
   "cell_type": "markdown",
   "metadata": {},
   "source": [
    "# Mission 3: Regression\n"
   ]
  },
  {
   "cell_type": "code",
   "execution_count": 41,
   "metadata": {},
   "outputs": [],
   "source": [
    "import statsmodels.api as sm\n",
    "from sklearn.linear_model import LogisticRegression\n"
   ]
  },
  {
   "cell_type": "code",
   "execution_count": 42,
   "metadata": {},
   "outputs": [
    {
     "data": {
      "text/plain": [
       "0       True\n",
       "1       True\n",
       "2       True\n",
       "3       True\n",
       "4       True\n",
       "       ...  \n",
       "165    False\n",
       "166    False\n",
       "167    False\n",
       "168    False\n",
       "169    False\n",
       "Name: is_genuine, Length: 170, dtype: bool"
      ]
     },
     "execution_count": 42,
     "metadata": {},
     "output_type": "execute_result"
    }
   ],
   "source": [
    "y = data_raw.is_genuine\n",
    "y"
   ]
  },
  {
   "cell_type": "code",
   "execution_count": 43,
   "metadata": {},
   "outputs": [
    {
     "data": {
      "text/html": [
       "<div>\n",
       "<style scoped>\n",
       "    .dataframe tbody tr th:only-of-type {\n",
       "        vertical-align: middle;\n",
       "    }\n",
       "\n",
       "    .dataframe tbody tr th {\n",
       "        vertical-align: top;\n",
       "    }\n",
       "\n",
       "    .dataframe thead th {\n",
       "        text-align: right;\n",
       "    }\n",
       "</style>\n",
       "<table border=\"1\" class=\"dataframe\">\n",
       "  <thead>\n",
       "    <tr style=\"text-align: right;\">\n",
       "      <th></th>\n",
       "      <th>is_genuine</th>\n",
       "    </tr>\n",
       "  </thead>\n",
       "  <tbody>\n",
       "    <tr>\n",
       "      <th>0</th>\n",
       "      <td>1</td>\n",
       "    </tr>\n",
       "    <tr>\n",
       "      <th>1</th>\n",
       "      <td>1</td>\n",
       "    </tr>\n",
       "    <tr>\n",
       "      <th>2</th>\n",
       "      <td>1</td>\n",
       "    </tr>\n",
       "    <tr>\n",
       "      <th>3</th>\n",
       "      <td>1</td>\n",
       "    </tr>\n",
       "    <tr>\n",
       "      <th>4</th>\n",
       "      <td>1</td>\n",
       "    </tr>\n",
       "    <tr>\n",
       "      <th>...</th>\n",
       "      <td>...</td>\n",
       "    </tr>\n",
       "    <tr>\n",
       "      <th>165</th>\n",
       "      <td>0</td>\n",
       "    </tr>\n",
       "    <tr>\n",
       "      <th>166</th>\n",
       "      <td>0</td>\n",
       "    </tr>\n",
       "    <tr>\n",
       "      <th>167</th>\n",
       "      <td>0</td>\n",
       "    </tr>\n",
       "    <tr>\n",
       "      <th>168</th>\n",
       "      <td>0</td>\n",
       "    </tr>\n",
       "    <tr>\n",
       "      <th>169</th>\n",
       "      <td>0</td>\n",
       "    </tr>\n",
       "  </tbody>\n",
       "</table>\n",
       "<p>170 rows × 1 columns</p>\n",
       "</div>"
      ],
      "text/plain": [
       "     is_genuine\n",
       "0             1\n",
       "1             1\n",
       "2             1\n",
       "3             1\n",
       "4             1\n",
       "..          ...\n",
       "165           0\n",
       "166           0\n",
       "167           0\n",
       "168           0\n",
       "169           0\n",
       "\n",
       "[170 rows x 1 columns]"
      ]
     },
     "execution_count": 43,
     "metadata": {},
     "output_type": "execute_result"
    }
   ],
   "source": [
    "ybin = 1*y\n",
    "PDybin = pd.DataFrame(ybin)\n",
    "PDybin"
   ]
  },
  {
   "cell_type": "code",
   "execution_count": 44,
   "metadata": {},
   "outputs": [
    {
     "data": {
      "text/html": [
       "<div>\n",
       "<style scoped>\n",
       "    .dataframe tbody tr th:only-of-type {\n",
       "        vertical-align: middle;\n",
       "    }\n",
       "\n",
       "    .dataframe tbody tr th {\n",
       "        vertical-align: top;\n",
       "    }\n",
       "\n",
       "    .dataframe thead th {\n",
       "        text-align: right;\n",
       "    }\n",
       "</style>\n",
       "<table border=\"1\" class=\"dataframe\">\n",
       "  <thead>\n",
       "    <tr style=\"text-align: right;\">\n",
       "      <th></th>\n",
       "      <th>margin_low</th>\n",
       "      <th>margin_up</th>\n",
       "      <th>length</th>\n",
       "    </tr>\n",
       "  </thead>\n",
       "  <tbody>\n",
       "    <tr>\n",
       "      <th>0</th>\n",
       "      <td>4.52</td>\n",
       "      <td>2.89</td>\n",
       "      <td>112.83</td>\n",
       "    </tr>\n",
       "    <tr>\n",
       "      <th>1</th>\n",
       "      <td>4.01</td>\n",
       "      <td>2.87</td>\n",
       "      <td>113.29</td>\n",
       "    </tr>\n",
       "    <tr>\n",
       "      <th>2</th>\n",
       "      <td>4.40</td>\n",
       "      <td>2.88</td>\n",
       "      <td>113.84</td>\n",
       "    </tr>\n",
       "    <tr>\n",
       "      <th>3</th>\n",
       "      <td>3.73</td>\n",
       "      <td>3.12</td>\n",
       "      <td>113.63</td>\n",
       "    </tr>\n",
       "    <tr>\n",
       "      <th>4</th>\n",
       "      <td>5.04</td>\n",
       "      <td>2.27</td>\n",
       "      <td>113.55</td>\n",
       "    </tr>\n",
       "    <tr>\n",
       "      <th>...</th>\n",
       "      <td>...</td>\n",
       "      <td>...</td>\n",
       "      <td>...</td>\n",
       "    </tr>\n",
       "    <tr>\n",
       "      <th>165</th>\n",
       "      <td>5.24</td>\n",
       "      <td>3.58</td>\n",
       "      <td>111.78</td>\n",
       "    </tr>\n",
       "    <tr>\n",
       "      <th>166</th>\n",
       "      <td>5.04</td>\n",
       "      <td>3.05</td>\n",
       "      <td>110.91</td>\n",
       "    </tr>\n",
       "    <tr>\n",
       "      <th>167</th>\n",
       "      <td>4.88</td>\n",
       "      <td>3.33</td>\n",
       "      <td>110.68</td>\n",
       "    </tr>\n",
       "    <tr>\n",
       "      <th>168</th>\n",
       "      <td>4.73</td>\n",
       "      <td>3.55</td>\n",
       "      <td>111.87</td>\n",
       "    </tr>\n",
       "    <tr>\n",
       "      <th>169</th>\n",
       "      <td>5.63</td>\n",
       "      <td>3.26</td>\n",
       "      <td>110.96</td>\n",
       "    </tr>\n",
       "  </tbody>\n",
       "</table>\n",
       "<p>170 rows × 3 columns</p>\n",
       "</div>"
      ],
      "text/plain": [
       "     margin_low  margin_up  length\n",
       "0          4.52       2.89  112.83\n",
       "1          4.01       2.87  113.29\n",
       "2          4.40       2.88  113.84\n",
       "3          3.73       3.12  113.63\n",
       "4          5.04       2.27  113.55\n",
       "..          ...        ...     ...\n",
       "165        5.24       3.58  111.78\n",
       "166        5.04       3.05  110.91\n",
       "167        4.88       3.33  110.68\n",
       "168        4.73       3.55  111.87\n",
       "169        5.63       3.26  110.96\n",
       "\n",
       "[170 rows x 3 columns]"
      ]
     },
     "execution_count": 44,
     "metadata": {},
     "output_type": "execute_result"
    }
   ],
   "source": [
    "x = data_raw.loc[:,\"margin_low\":\"length\"]\n",
    "x"
   ]
  },
  {
   "cell_type": "code",
   "execution_count": 45,
   "metadata": {},
   "outputs": [],
   "source": [
    "x_scaled = X_scaled\n",
    "x_scaled = x_scaled[:, 3:]"
   ]
  },
  {
   "cell_type": "code",
   "execution_count": 46,
   "metadata": {},
   "outputs": [
    {
     "data": {
      "text/plain": [
       "(136, 3)"
      ]
     },
     "execution_count": 46,
     "metadata": {},
     "output_type": "execute_result"
    }
   ],
   "source": [
    "from sklearn.model_selection import train_test_split\n",
    "X_train,X_test,y_train,y_test=train_test_split(x_scaled,y,test_size=0.20,random_state=0)\n",
    "X_train.shape"
   ]
  },
  {
   "cell_type": "code",
   "execution_count": 47,
   "metadata": {},
   "outputs": [
    {
     "data": {
      "text/plain": [
       "(34, 3)"
      ]
     },
     "execution_count": 47,
     "metadata": {},
     "output_type": "execute_result"
    }
   ],
   "source": [
    "X_test.shape"
   ]
  },
  {
   "cell_type": "code",
   "execution_count": 48,
   "metadata": {},
   "outputs": [
    {
     "data": {
      "text/plain": [
       "LogisticRegression(C=1.0, class_weight=None, dual=False, fit_intercept=True,\n",
       "                   intercept_scaling=1, l1_ratio=None, max_iter=100,\n",
       "                   multi_class='auto', n_jobs=None, penalty='none',\n",
       "                   random_state=None, solver='newton-cg', tol=0.0001, verbose=0,\n",
       "                   warm_start=False)"
      ]
     },
     "execution_count": 48,
     "metadata": {},
     "output_type": "execute_result"
    }
   ],
   "source": [
    "logreg = LogisticRegression(penalty='none',solver='newton-cg')\n",
    "logreg.fit(X_train, y_train)"
   ]
  },
  {
   "cell_type": "code",
   "execution_count": 49,
   "metadata": {},
   "outputs": [
    {
     "data": {
      "text/html": [
       "<div>\n",
       "<style scoped>\n",
       "    .dataframe tbody tr th:only-of-type {\n",
       "        vertical-align: middle;\n",
       "    }\n",
       "\n",
       "    .dataframe tbody tr th {\n",
       "        vertical-align: top;\n",
       "    }\n",
       "\n",
       "    .dataframe thead th {\n",
       "        text-align: right;\n",
       "    }\n",
       "</style>\n",
       "<table border=\"1\" class=\"dataframe\">\n",
       "  <thead>\n",
       "    <tr style=\"text-align: right;\">\n",
       "      <th></th>\n",
       "      <th>coef</th>\n",
       "    </tr>\n",
       "  </thead>\n",
       "  <tbody>\n",
       "    <tr>\n",
       "      <th>constante</th>\n",
       "      <td>11.912375</td>\n",
       "    </tr>\n",
       "    <tr>\n",
       "      <th>margin_low</th>\n",
       "      <td>-57.826106</td>\n",
       "    </tr>\n",
       "    <tr>\n",
       "      <th>margin_up</th>\n",
       "      <td>-31.111801</td>\n",
       "    </tr>\n",
       "    <tr>\n",
       "      <th>length</th>\n",
       "      <td>26.965724</td>\n",
       "    </tr>\n",
       "  </tbody>\n",
       "</table>\n",
       "</div>"
      ],
      "text/plain": [
       "                 coef\n",
       "constante   11.912375\n",
       "margin_low -57.826106\n",
       "margin_up  -31.111801\n",
       "length      26.965724"
      ]
     },
     "execution_count": 49,
     "metadata": {},
     "output_type": "execute_result"
    }
   ],
   "source": [
    "pd.DataFrame(np.concatenate([logreg.intercept_.reshape(-1,1),\n",
    "                             logreg.coef_],axis=1),\n",
    "             index = [\"coef\"],\n",
    "             columns = [\"constante\"]+list(x.columns)).T"
   ]
  },
  {
   "cell_type": "code",
   "execution_count": 50,
   "metadata": {},
   "outputs": [
    {
     "data": {
      "text/plain": [
       "array([[-57.8261061 , -31.11180115,  26.96572401]])"
      ]
     },
     "execution_count": 50,
     "metadata": {},
     "output_type": "execute_result"
    }
   ],
   "source": [
    "logreg.coef_"
   ]
  },
  {
   "cell_type": "code",
   "execution_count": 51,
   "metadata": {},
   "outputs": [
    {
     "data": {
      "text/plain": [
       "1.0"
      ]
     },
     "execution_count": 51,
     "metadata": {},
     "output_type": "execute_result"
    }
   ],
   "source": [
    "logreg.score(X_test, y_test)"
   ]
  },
  {
   "cell_type": "code",
   "execution_count": 52,
   "metadata": {},
   "outputs": [
    {
     "data": {
      "text/plain": [
       "array([False, False, False,  True,  True, False,  True,  True, False,\n",
       "        True, False,  True,  True, False,  True,  True,  True, False,\n",
       "        True,  True, False,  True, False, False, False,  True,  True,\n",
       "       False,  True,  True,  True, False,  True,  True])"
      ]
     },
     "execution_count": 52,
     "metadata": {},
     "output_type": "execute_result"
    }
   ],
   "source": [
    "y_pred = logreg.predict(X_test)\n",
    "y_pred"
   ]
  },
  {
   "cell_type": "code",
   "execution_count": 53,
   "metadata": {},
   "outputs": [
    {
     "name": "stdout",
     "output_type": "stream",
     "text": [
      "[  0.   0.   0. 100. 100.   0. 100. 100.   0. 100.   0. 100. 100.   0.\n",
      " 100. 100. 100.   0. 100. 100.   0. 100.   0.   0.   0. 100. 100.   0.\n",
      " 100. 100. 100.   0. 100. 100.]\n"
     ]
    }
   ],
   "source": [
    "y_proba = logreg.predict_proba(X_test)\n",
    "with np.printoptions(precision=0, suppress=True):\n",
    "    print(y_proba[:,1] * 100)"
   ]
  },
  {
   "cell_type": "code",
   "execution_count": 54,
   "metadata": {},
   "outputs": [
    {
     "data": {
      "text/plain": [
       "array([[14,  0],\n",
       "       [ 0, 20]])"
      ]
     },
     "execution_count": 54,
     "metadata": {},
     "output_type": "execute_result"
    }
   ],
   "source": [
    "from sklearn import metrics\n",
    "cnf_matrix = metrics.confusion_matrix(y_test, y_pred)\n",
    "cnf_matrix"
   ]
  },
  {
   "cell_type": "code",
   "execution_count": 55,
   "metadata": {},
   "outputs": [
    {
     "data": {
      "text/plain": [
       "Text(0.5, 257.44, 'Predicted label')"
      ]
     },
     "execution_count": 55,
     "metadata": {},
     "output_type": "execute_result"
    },
    {
     "data": {
      "image/png": "[encoded data removed]",
      "text/plain": [
       "<Figure size 432x288 with 2 Axes>"
      ]
     },
     "metadata": {
      "needs_background": "light"
     },
     "output_type": "display_data"
    }
   ],
   "source": [
    "class_names=[\"Faux\",\"Vrai\"] # name  of classes\n",
    "fig, ax = plt.subplots()\n",
    "tick_marks = np.arange(len(class_names))\n",
    "plt.xticks(tick_marks, class_names)\n",
    "plt.yticks(tick_marks, class_names)\n",
    "# create heatmap\n",
    "sns.heatmap(pd.DataFrame(cnf_matrix), annot=True, cmap=\"YlGnBu\" ,fmt='g')\n",
    "ax.xaxis.set_label_position(\"top\")\n",
    "plt.tight_layout()\n",
    "plt.title('Confusion matrix', y=1.1)\n",
    "plt.ylabel('Actual label')\n",
    "plt.xlabel('Predicted label')"
   ]
  },
  {
   "cell_type": "code",
   "execution_count": 56,
   "metadata": {},
   "outputs": [
    {
     "name": "stdout",
     "output_type": "stream",
     "text": [
      "Accuracy: 1.0\n",
      "Precision: 1.0\n",
      "Recall: 1.0\n"
     ]
    }
   ],
   "source": [
    "print(\"Accuracy:\",metrics.accuracy_score(y_test, y_pred)) #\n",
    "print(\"Precision:\",metrics.precision_score(y_test, y_pred))\n",
    "print(\"Recall:\",metrics.recall_score(y_test, y_pred)) # sensibilite"
   ]
  },
  {
   "cell_type": "code",
   "execution_count": 57,
   "metadata": {},
   "outputs": [
    {
     "data": {
      "image/png": "[encoded data removed]",
      "text/plain": [
       "<Figure size 432x288 with 1 Axes>"
      ]
     },
     "metadata": {
      "needs_background": "light"
     },
     "output_type": "display_data"
    }
   ],
   "source": [
    "y_pred_proba = logreg.predict_proba(X_test)[::,1]\n",
    "fpr, tpr, _ = metrics.roc_curve(y_test,  y_pred_proba)\n",
    "auc = metrics.roc_auc_score(y_test, y_pred_proba)\n",
    "plt.plot(fpr,tpr,label=\"data 1, auc=\"+str(auc))\n",
    "plt.legend(loc=4)\n",
    "plt.show()\n"
   ]
  },
  {
   "cell_type": "code",
   "execution_count": 58,
   "metadata": {},
   "outputs": [],
   "source": [
    "x_test = pd.read_csv('example.csv')\n",
    "x_test = x_test.drop(['id'], axis=1)\n",
    "x_test\n",
    "x_test_scaled=std_scale.transform(x_test)\n",
    "x_test_scaled = x_test_scaled[:, 3:]"
   ]
  },
  {
   "cell_type": "code",
   "execution_count": 59,
   "metadata": {},
   "outputs": [
    {
     "data": {
      "text/plain": [
       "array([4.76534862e-39, 1.88998402e-59, 2.07154649e-34, 1.00000000e+00,\n",
       "       1.00000000e+00])"
      ]
     },
     "execution_count": 59,
     "metadata": {},
     "output_type": "execute_result"
    }
   ],
   "source": [
    "y_pred_proba = logreg.predict_proba(x_test_scaled)[::,1]\n",
    "y_pred_proba"
   ]
  },
  {
   "cell_type": "markdown",
   "metadata": {},
   "source": [
    "## Validation croisee"
   ]
  },
  {
   "cell_type": "code",
   "execution_count": 60,
   "metadata": {},
   "outputs": [],
   "source": [
    "lr = LogisticRegression()"
   ]
  },
  {
   "cell_type": "code",
   "execution_count": 61,
   "metadata": {},
   "outputs": [],
   "source": [
    "model_all = lr.fit(x,y)"
   ]
  },
  {
   "cell_type": "code",
   "execution_count": 62,
   "metadata": {},
   "outputs": [
    {
     "name": "stdout",
     "output_type": "stream",
     "text": [
      "[[-2.97077903 -1.48784376  2.48379203]] [-260.6237096]\n"
     ]
    }
   ],
   "source": [
    "print(model_all.coef_,model_all.intercept_)"
   ]
  },
  {
   "cell_type": "code",
   "execution_count": 63,
   "metadata": {},
   "outputs": [],
   "source": [
    "from sklearn.model_selection import cross_val_score"
   ]
  },
  {
   "cell_type": "code",
   "execution_count": 64,
   "metadata": {},
   "outputs": [],
   "source": [
    "succes = cross_val_score(lr,x,y,cv=6,scoring='accuracy') # cv cross validation"
   ]
  },
  {
   "cell_type": "code",
   "execution_count": 65,
   "metadata": {},
   "outputs": [
    {
     "name": "stdout",
     "output_type": "stream",
     "text": [
      "[0.96551724 0.96551724 1.         1.         0.96428571 1.        ]\n"
     ]
    }
   ],
   "source": [
    "print(succes)"
   ]
  },
  {
   "cell_type": "code",
   "execution_count": 66,
   "metadata": {},
   "outputs": [
    {
     "name": "stdout",
     "output_type": "stream",
     "text": [
      "0.9825533661740559\n"
     ]
    }
   ],
   "source": [
    "print(succes.mean())"
   ]
  },
  {
   "cell_type": "markdown",
   "metadata": {},
   "source": [
    "## Statsmodel"
   ]
  },
  {
   "cell_type": "markdown",
   "metadata": {},
   "source": [
    "Stepwise, sortir et tester les variables au fur et a mesure\n",
    "Les donnees ici sont centrees reduites."
   ]
  },
  {
   "cell_type": "code",
   "execution_count": 67,
   "metadata": {},
   "outputs": [
    {
     "data": {
      "text/html": [
       "<div>\n",
       "<style scoped>\n",
       "    .dataframe tbody tr th:only-of-type {\n",
       "        vertical-align: middle;\n",
       "    }\n",
       "\n",
       "    .dataframe tbody tr th {\n",
       "        vertical-align: top;\n",
       "    }\n",
       "\n",
       "    .dataframe thead th {\n",
       "        text-align: right;\n",
       "    }\n",
       "</style>\n",
       "<table border=\"1\" class=\"dataframe\">\n",
       "  <thead>\n",
       "    <tr style=\"text-align: right;\">\n",
       "      <th></th>\n",
       "      <th>diagonal</th>\n",
       "      <th>height_left</th>\n",
       "      <th>height_right</th>\n",
       "      <th>margin_low</th>\n",
       "      <th>margin_up</th>\n",
       "      <th>length</th>\n",
       "    </tr>\n",
       "  </thead>\n",
       "  <tbody>\n",
       "    <tr>\n",
       "      <th>0</th>\n",
       "      <td>-0.428344</td>\n",
       "      <td>2.669454</td>\n",
       "      <td>3.096563</td>\n",
       "      <td>-0.131590</td>\n",
       "      <td>-1.189874</td>\n",
       "      <td>0.281633</td>\n",
       "    </tr>\n",
       "    <tr>\n",
       "      <th>1</th>\n",
       "      <td>-0.887559</td>\n",
       "      <td>-1.097697</td>\n",
       "      <td>-0.691254</td>\n",
       "      <td>-0.860126</td>\n",
       "      <td>-1.274740</td>\n",
       "      <td>0.780697</td>\n",
       "    </tr>\n",
       "    <tr>\n",
       "      <th>2</th>\n",
       "      <td>-0.362742</td>\n",
       "      <td>-1.030427</td>\n",
       "      <td>-0.509439</td>\n",
       "      <td>-0.303010</td>\n",
       "      <td>-1.232307</td>\n",
       "      <td>1.377405</td>\n",
       "    </tr>\n",
       "    <tr>\n",
       "      <th>3</th>\n",
       "      <td>-0.461145</td>\n",
       "      <td>-0.963156</td>\n",
       "      <td>-0.842767</td>\n",
       "      <td>-1.260106</td>\n",
       "      <td>-0.213913</td>\n",
       "      <td>1.149571</td>\n",
       "    </tr>\n",
       "    <tr>\n",
       "      <th>4</th>\n",
       "      <td>0.358883</td>\n",
       "      <td>-1.232238</td>\n",
       "      <td>-0.539742</td>\n",
       "      <td>0.611230</td>\n",
       "      <td>-3.820725</td>\n",
       "      <td>1.062777</td>\n",
       "    </tr>\n",
       "    <tr>\n",
       "      <th>...</th>\n",
       "      <td>...</td>\n",
       "      <td>...</td>\n",
       "      <td>...</td>\n",
       "      <td>...</td>\n",
       "      <td>...</td>\n",
       "      <td>...</td>\n",
       "    </tr>\n",
       "    <tr>\n",
       "      <th>165</th>\n",
       "      <td>0.555689</td>\n",
       "      <td>0.550431</td>\n",
       "      <td>1.581436</td>\n",
       "      <td>0.896930</td>\n",
       "      <td>1.738009</td>\n",
       "      <td>-0.857535</td>\n",
       "    </tr>\n",
       "    <tr>\n",
       "      <th>166</th>\n",
       "      <td>3.507789</td>\n",
       "      <td>1.761301</td>\n",
       "      <td>1.157201</td>\n",
       "      <td>0.611230</td>\n",
       "      <td>-0.510944</td>\n",
       "      <td>-1.801418</td>\n",
       "    </tr>\n",
       "    <tr>\n",
       "      <th>167</th>\n",
       "      <td>1.736529</td>\n",
       "      <td>0.684972</td>\n",
       "      <td>0.520847</td>\n",
       "      <td>0.382670</td>\n",
       "      <td>0.677182</td>\n",
       "      <td>-2.050950</td>\n",
       "    </tr>\n",
       "    <tr>\n",
       "      <th>168</th>\n",
       "      <td>-0.395543</td>\n",
       "      <td>-0.324086</td>\n",
       "      <td>-0.145809</td>\n",
       "      <td>0.168395</td>\n",
       "      <td>1.610710</td>\n",
       "      <td>-0.759892</td>\n",
       "    </tr>\n",
       "    <tr>\n",
       "      <th>169</th>\n",
       "      <td>0.063673</td>\n",
       "      <td>-0.223180</td>\n",
       "      <td>0.066309</td>\n",
       "      <td>1.454046</td>\n",
       "      <td>0.380151</td>\n",
       "      <td>-1.747172</td>\n",
       "    </tr>\n",
       "  </tbody>\n",
       "</table>\n",
       "<p>170 rows × 6 columns</p>\n",
       "</div>"
      ],
      "text/plain": [
       "     diagonal  height_left  height_right  margin_low  margin_up    length\n",
       "0   -0.428344     2.669454      3.096563   -0.131590  -1.189874  0.281633\n",
       "1   -0.887559    -1.097697     -0.691254   -0.860126  -1.274740  0.780697\n",
       "2   -0.362742    -1.030427     -0.509439   -0.303010  -1.232307  1.377405\n",
       "3   -0.461145    -0.963156     -0.842767   -1.260106  -0.213913  1.149571\n",
       "4    0.358883    -1.232238     -0.539742    0.611230  -3.820725  1.062777\n",
       "..        ...          ...           ...         ...        ...       ...\n",
       "165  0.555689     0.550431      1.581436    0.896930   1.738009 -0.857535\n",
       "166  3.507789     1.761301      1.157201    0.611230  -0.510944 -1.801418\n",
       "167  1.736529     0.684972      0.520847    0.382670   0.677182 -2.050950\n",
       "168 -0.395543    -0.324086     -0.145809    0.168395   1.610710 -0.759892\n",
       "169  0.063673    -0.223180      0.066309    1.454046   0.380151 -1.747172\n",
       "\n",
       "[170 rows x 6 columns]"
      ]
     },
     "execution_count": 67,
     "metadata": {},
     "output_type": "execute_result"
    }
   ],
   "source": [
    "# Dataframe initial pour la methode stepwise\n",
    "PDX_scaled "
   ]
  },
  {
   "cell_type": "code",
   "execution_count": 68,
   "metadata": {},
   "outputs": [
    {
     "data": {
      "text/plain": [
       "array([[-0.42834385,  2.6694537 ,  3.09656321, -0.13159013, -1.18987367,\n",
       "         0.28163308],\n",
       "       [-0.88755932, -1.09769709, -0.69125444, -0.86012554, -1.27473985,\n",
       "         0.78069736],\n",
       "       [-0.36274164, -1.03042654, -0.50943919, -0.30301023, -1.23230676,\n",
       "         1.37740465],\n",
       "       ...,\n",
       "       [ 1.73652911,  0.68497248,  0.52084721,  0.38267015,  0.67718214,\n",
       "        -2.05094997],\n",
       "       [-0.39554274, -0.32408577, -0.1458087 ,  0.16839504,  1.61071005,\n",
       "        -0.75989238],\n",
       "       [ 0.06367273, -0.22317994,  0.06630909,  1.45404575,  0.38015054,\n",
       "        -1.74717171]])"
      ]
     },
     "execution_count": 68,
     "metadata": {},
     "output_type": "execute_result"
    }
   ],
   "source": [
    "x_scaled = PDX_scaled.values\n",
    "x_scaled"
   ]
  },
  {
   "cell_type": "code",
   "execution_count": 69,
   "metadata": {},
   "outputs": [
    {
     "data": {
      "text/plain": [
       "array([[171.81, 104.86, 104.95,   4.52,   2.89, 112.83],\n",
       "       [171.67, 103.74, 103.7 ,   4.01,   2.87, 113.29],\n",
       "       [171.83, 103.76, 103.76,   4.4 ,   2.88, 113.84],\n",
       "       ...,\n",
       "       [172.47, 104.27, 104.1 ,   4.88,   3.33, 110.68],\n",
       "       [171.82, 103.97, 103.88,   4.73,   3.55, 111.87],\n",
       "       [171.96, 104.  , 103.95,   5.63,   3.26, 110.96]])"
      ]
     },
     "execution_count": 69,
     "metadata": {},
     "output_type": "execute_result"
    }
   ],
   "source": [
    "X"
   ]
  },
  {
   "cell_type": "code",
   "execution_count": 70,
   "metadata": {},
   "outputs": [],
   "source": [
    "# ajout d'une colonne de 1 pour le calcul de la constante\n",
    "x_stat = sm.add_constant(X)\n",
    "mod = sm.GLM(y,x_stat)\n",
    "res = mod.fit()"
   ]
  },
  {
   "cell_type": "code",
   "execution_count": 71,
   "metadata": {},
   "outputs": [
    {
     "data": {
      "text/html": [
       "<table class=\"simpletable\">\n",
       "<tr>\n",
       "        <td>Model:</td>               <td>GLM</td>            <td>AIC:</td>       <td>-111.4893</td>\n",
       "</tr>\n",
       "<tr>\n",
       "    <td>Link Function:</td>        <td>identity</td>          <td>BIC:</td>       <td>-832.3775</td>\n",
       "</tr>\n",
       "<tr>\n",
       "  <td>Dependent Variable:</td>    <td>is_genuine</td>    <td>Log-Likelihood:</td>  <td>62.745</td>  \n",
       "</tr>\n",
       "<tr>\n",
       "         <td>Date:</td>        <td>2020-03-17 11:44</td>    <td>LL-Null:</td>      <td>-561.20</td> \n",
       "</tr>\n",
       "<tr>\n",
       "   <td>No. Observations:</td>         <td>170</td>          <td>Deviance:</td>     <td>4.7576</td>  \n",
       "</tr>\n",
       "<tr>\n",
       "       <td>Df Model:</td>              <td>6</td>         <td>Pearson chi2:</td>    <td>4.76</td>   \n",
       "</tr>\n",
       "<tr>\n",
       "     <td>Df Residuals:</td>           <td>163</td>           <td>Scale:</td>      <td>0.029188</td> \n",
       "</tr>\n",
       "<tr>\n",
       "        <td>Method:</td>             <td>IRLS</td>              <td></td>             <td></td>     \n",
       "</tr>\n",
       "</table>\n",
       "<table class=\"simpletable\">\n",
       "<tr>\n",
       "    <td></td>      <th>Coef.</th>  <th>Std.Err.</th>     <th>z</th>     <th>P>|z|</th>  <th>[0.025</th>  <th>0.975]</th> \n",
       "</tr>\n",
       "<tr>\n",
       "  <th>const</th> <td>-14.0754</td>  <td>8.4586</td>   <td>-1.6640</td> <td>0.0961</td> <td>-30.6539</td> <td>2.5030</td> \n",
       "</tr>\n",
       "<tr>\n",
       "  <th>x1</th>     <td>0.0179</td>   <td>0.0498</td>   <td>0.3598</td>  <td>0.7190</td>  <td>-0.0798</td> <td>0.1156</td> \n",
       "</tr>\n",
       "<tr>\n",
       "  <th>x2</th>     <td>0.0768</td>   <td>0.0692</td>   <td>1.1094</td>  <td>0.2673</td>  <td>-0.0589</td> <td>0.2124</td> \n",
       "</tr>\n",
       "<tr>\n",
       "  <th>x3</th>     <td>-0.1083</td>  <td>0.0643</td>   <td>-1.6858</td> <td>0.0918</td>  <td>-0.2343</td> <td>0.0176</td> \n",
       "</tr>\n",
       "<tr>\n",
       "  <th>x4</th>     <td>-0.3716</td>  <td>0.0293</td>  <td>-12.6720</td> <td>0.0000</td>  <td>-0.4291</td> <td>-0.3141</td>\n",
       "</tr>\n",
       "<tr>\n",
       "  <th>x5</th>     <td>-0.6628</td>  <td>0.0718</td>   <td>-9.2246</td> <td>0.0000</td>  <td>-0.8036</td> <td>-0.5219</td>\n",
       "</tr>\n",
       "<tr>\n",
       "  <th>x6</th>     <td>0.1658</td>   <td>0.0223</td>   <td>7.4243</td>  <td>0.0000</td>  <td>0.1220</td>  <td>0.2096</td> \n",
       "</tr>\n",
       "</table>"
      ],
      "text/plain": [
       "<class 'statsmodels.iolib.summary2.Summary'>\n",
       "\"\"\"\n",
       "              Results: Generalized linear model\n",
       "==============================================================\n",
       "Model:              GLM              AIC:            -111.4893\n",
       "Link Function:      identity         BIC:            -832.3775\n",
       "Dependent Variable: is_genuine       Log-Likelihood: 62.745   \n",
       "Date:               2020-03-17 11:44 LL-Null:        -561.20  \n",
       "No. Observations:   170              Deviance:       4.7576   \n",
       "Df Model:           6                Pearson chi2:   4.76     \n",
       "Df Residuals:       163              Scale:          0.029188 \n",
       "Method:             IRLS                                      \n",
       "---------------------------------------------------------------\n",
       "         Coef.    Std.Err.     z      P>|z|    [0.025    0.975]\n",
       "---------------------------------------------------------------\n",
       "const   -14.0754    8.4586   -1.6640  0.0961  -30.6539   2.5030\n",
       "x1        0.0179    0.0498    0.3598  0.7190   -0.0798   0.1156\n",
       "x2        0.0768    0.0692    1.1094  0.2673   -0.0589   0.2124\n",
       "x3       -0.1083    0.0643   -1.6858  0.0918   -0.2343   0.0176\n",
       "x4       -0.3716    0.0293  -12.6720  0.0000   -0.4291  -0.3141\n",
       "x5       -0.6628    0.0718   -9.2246  0.0000   -0.8036  -0.5219\n",
       "x6        0.1658    0.0223    7.4243  0.0000    0.1220   0.2096\n",
       "==============================================================\n",
       "\n",
       "\"\"\""
      ]
     },
     "execution_count": 71,
     "metadata": {},
     "output_type": "execute_result"
    }
   ],
   "source": [
    "res.summary2()"
   ]
  },
  {
   "cell_type": "code",
   "execution_count": 72,
   "metadata": {},
   "outputs": [
    {
     "data": {
      "text/html": [
       "<table class=\"simpletable\">\n",
       "<tr>\n",
       "        <td>Model:</td>               <td>GLM</td>            <td>AIC:</td>       <td>-113.3543</td>\n",
       "</tr>\n",
       "<tr>\n",
       "    <td>Link Function:</td>        <td>identity</td>          <td>BIC:</td>       <td>-837.5095</td>\n",
       "</tr>\n",
       "<tr>\n",
       "  <td>Dependent Variable:</td>    <td>is_genuine</td>    <td>Log-Likelihood:</td>  <td>62.677</td>  \n",
       "</tr>\n",
       "<tr>\n",
       "         <td>Date:</td>        <td>2020-03-17 11:44</td>    <td>LL-Null:</td>      <td>-564.51</td> \n",
       "</tr>\n",
       "<tr>\n",
       "   <td>No. Observations:</td>         <td>170</td>          <td>Deviance:</td>     <td>4.7614</td>  \n",
       "</tr>\n",
       "<tr>\n",
       "       <td>Df Model:</td>              <td>5</td>         <td>Pearson chi2:</td>    <td>4.76</td>   \n",
       "</tr>\n",
       "<tr>\n",
       "     <td>Df Residuals:</td>           <td>164</td>           <td>Scale:</td>      <td>0.029033</td> \n",
       "</tr>\n",
       "<tr>\n",
       "        <td>Method:</td>             <td>IRLS</td>              <td></td>             <td></td>     \n",
       "</tr>\n",
       "</table>\n",
       "<table class=\"simpletable\">\n",
       "<tr>\n",
       "    <td></td>     <th>Coef.</th>  <th>Std.Err.</th>     <th>z</th>     <th>P>|z|</th> <th>[0.025</th>  <th>0.975]</th> \n",
       "</tr>\n",
       "<tr>\n",
       "  <th>const</th> <td>0.5882</td>   <td>0.0131</td>   <td>45.0122</td> <td>0.0000</td> <td>0.5626</td>  <td>0.6138</td> \n",
       "</tr>\n",
       "<tr>\n",
       "  <th>x1</th>    <td>0.0250</td>   <td>0.0196</td>   <td>1.2765</td>  <td>0.2018</td> <td>-0.0134</td> <td>0.0634</td> \n",
       "</tr>\n",
       "<tr>\n",
       "  <th>x2</th>    <td>-0.0346</td>  <td>0.0209</td>   <td>-1.6554</td> <td>0.0978</td> <td>-0.0756</td> <td>0.0064</td> \n",
       "</tr>\n",
       "<tr>\n",
       "  <th>x3</th>    <td>-0.2626</td>  <td>0.0193</td>  <td>-13.6345</td> <td>0.0000</td> <td>-0.3004</td> <td>-0.2249</td>\n",
       "</tr>\n",
       "<tr>\n",
       "  <th>x4</th>    <td>-0.1572</td>  <td>0.0167</td>   <td>-9.4346</td> <td>0.0000</td> <td>-0.1898</td> <td>-0.1245</td>\n",
       "</tr>\n",
       "<tr>\n",
       "  <th>x5</th>    <td>0.1525</td>   <td>0.0205</td>   <td>7.4357</td>  <td>0.0000</td> <td>0.1123</td>  <td>0.1927</td> \n",
       "</tr>\n",
       "</table>"
      ],
      "text/plain": [
       "<class 'statsmodels.iolib.summary2.Summary'>\n",
       "\"\"\"\n",
       "              Results: Generalized linear model\n",
       "==============================================================\n",
       "Model:              GLM              AIC:            -113.3543\n",
       "Link Function:      identity         BIC:            -837.5095\n",
       "Dependent Variable: is_genuine       Log-Likelihood: 62.677   \n",
       "Date:               2020-03-17 11:44 LL-Null:        -564.51  \n",
       "No. Observations:   170              Deviance:       4.7614   \n",
       "Df Model:           5                Pearson chi2:   4.76     \n",
       "Df Residuals:       164              Scale:          0.029033 \n",
       "Method:             IRLS                                      \n",
       "---------------------------------------------------------------\n",
       "           Coef.   Std.Err.     z      P>|z|    [0.025   0.975]\n",
       "---------------------------------------------------------------\n",
       "const      0.5882    0.0131   45.0122  0.0000   0.5626   0.6138\n",
       "x1         0.0250    0.0196    1.2765  0.2018  -0.0134   0.0634\n",
       "x2        -0.0346    0.0209   -1.6554  0.0978  -0.0756   0.0064\n",
       "x3        -0.2626    0.0193  -13.6345  0.0000  -0.3004  -0.2249\n",
       "x4        -0.1572    0.0167   -9.4346  0.0000  -0.1898  -0.1245\n",
       "x5         0.1525    0.0205    7.4357  0.0000   0.1123   0.1927\n",
       "==============================================================\n",
       "\n",
       "\"\"\""
      ]
     },
     "execution_count": 72,
     "metadata": {},
     "output_type": "execute_result"
    }
   ],
   "source": [
    "# Retrait de la diagonale\n",
    "PDX_scaled2 = PDX_scaled.loc[:, 'height_left':'length']\n",
    "x_scaled = PDX_scaled2.values\n",
    "x_stat = sm.add_constant(x_scaled)\n",
    "mod = sm.GLM(y,x_stat)\n",
    "res = mod.fit()\n",
    "res.summary2()"
   ]
  },
  {
   "cell_type": "code",
   "execution_count": 73,
   "metadata": {},
   "outputs": [
    {
     "data": {
      "text/html": [
       "<div>\n",
       "<style scoped>\n",
       "    .dataframe tbody tr th:only-of-type {\n",
       "        vertical-align: middle;\n",
       "    }\n",
       "\n",
       "    .dataframe tbody tr th {\n",
       "        vertical-align: top;\n",
       "    }\n",
       "\n",
       "    .dataframe thead th {\n",
       "        text-align: right;\n",
       "    }\n",
       "</style>\n",
       "<table border=\"1\" class=\"dataframe\">\n",
       "  <thead>\n",
       "    <tr style=\"text-align: right;\">\n",
       "      <th></th>\n",
       "      <th>diagonal</th>\n",
       "      <th>height_right</th>\n",
       "      <th>margin_low</th>\n",
       "      <th>margin_up</th>\n",
       "      <th>length</th>\n",
       "    </tr>\n",
       "  </thead>\n",
       "  <tbody>\n",
       "    <tr>\n",
       "      <th>0</th>\n",
       "      <td>-0.428344</td>\n",
       "      <td>3.096563</td>\n",
       "      <td>-0.131590</td>\n",
       "      <td>-1.189874</td>\n",
       "      <td>0.281633</td>\n",
       "    </tr>\n",
       "    <tr>\n",
       "      <th>1</th>\n",
       "      <td>-0.887559</td>\n",
       "      <td>-0.691254</td>\n",
       "      <td>-0.860126</td>\n",
       "      <td>-1.274740</td>\n",
       "      <td>0.780697</td>\n",
       "    </tr>\n",
       "    <tr>\n",
       "      <th>2</th>\n",
       "      <td>-0.362742</td>\n",
       "      <td>-0.509439</td>\n",
       "      <td>-0.303010</td>\n",
       "      <td>-1.232307</td>\n",
       "      <td>1.377405</td>\n",
       "    </tr>\n",
       "    <tr>\n",
       "      <th>3</th>\n",
       "      <td>-0.461145</td>\n",
       "      <td>-0.842767</td>\n",
       "      <td>-1.260106</td>\n",
       "      <td>-0.213913</td>\n",
       "      <td>1.149571</td>\n",
       "    </tr>\n",
       "    <tr>\n",
       "      <th>4</th>\n",
       "      <td>0.358883</td>\n",
       "      <td>-0.539742</td>\n",
       "      <td>0.611230</td>\n",
       "      <td>-3.820725</td>\n",
       "      <td>1.062777</td>\n",
       "    </tr>\n",
       "    <tr>\n",
       "      <th>...</th>\n",
       "      <td>...</td>\n",
       "      <td>...</td>\n",
       "      <td>...</td>\n",
       "      <td>...</td>\n",
       "      <td>...</td>\n",
       "    </tr>\n",
       "    <tr>\n",
       "      <th>165</th>\n",
       "      <td>0.555689</td>\n",
       "      <td>1.581436</td>\n",
       "      <td>0.896930</td>\n",
       "      <td>1.738009</td>\n",
       "      <td>-0.857535</td>\n",
       "    </tr>\n",
       "    <tr>\n",
       "      <th>166</th>\n",
       "      <td>3.507789</td>\n",
       "      <td>1.157201</td>\n",
       "      <td>0.611230</td>\n",
       "      <td>-0.510944</td>\n",
       "      <td>-1.801418</td>\n",
       "    </tr>\n",
       "    <tr>\n",
       "      <th>167</th>\n",
       "      <td>1.736529</td>\n",
       "      <td>0.520847</td>\n",
       "      <td>0.382670</td>\n",
       "      <td>0.677182</td>\n",
       "      <td>-2.050950</td>\n",
       "    </tr>\n",
       "    <tr>\n",
       "      <th>168</th>\n",
       "      <td>-0.395543</td>\n",
       "      <td>-0.145809</td>\n",
       "      <td>0.168395</td>\n",
       "      <td>1.610710</td>\n",
       "      <td>-0.759892</td>\n",
       "    </tr>\n",
       "    <tr>\n",
       "      <th>169</th>\n",
       "      <td>0.063673</td>\n",
       "      <td>0.066309</td>\n",
       "      <td>1.454046</td>\n",
       "      <td>0.380151</td>\n",
       "      <td>-1.747172</td>\n",
       "    </tr>\n",
       "  </tbody>\n",
       "</table>\n",
       "<p>170 rows × 5 columns</p>\n",
       "</div>"
      ],
      "text/plain": [
       "     diagonal  height_right  margin_low  margin_up    length\n",
       "0   -0.428344      3.096563   -0.131590  -1.189874  0.281633\n",
       "1   -0.887559     -0.691254   -0.860126  -1.274740  0.780697\n",
       "2   -0.362742     -0.509439   -0.303010  -1.232307  1.377405\n",
       "3   -0.461145     -0.842767   -1.260106  -0.213913  1.149571\n",
       "4    0.358883     -0.539742    0.611230  -3.820725  1.062777\n",
       "..        ...           ...         ...        ...       ...\n",
       "165  0.555689      1.581436    0.896930   1.738009 -0.857535\n",
       "166  3.507789      1.157201    0.611230  -0.510944 -1.801418\n",
       "167  1.736529      0.520847    0.382670   0.677182 -2.050950\n",
       "168 -0.395543     -0.145809    0.168395   1.610710 -0.759892\n",
       "169  0.063673      0.066309    1.454046   0.380151 -1.747172\n",
       "\n",
       "[170 rows x 5 columns]"
      ]
     },
     "execution_count": 73,
     "metadata": {},
     "output_type": "execute_result"
    }
   ],
   "source": [
    "PDX_scaled.loc[:, ['diagonal', 'height_right', 'margin_low', 'margin_up', 'length']]"
   ]
  },
  {
   "cell_type": "code",
   "execution_count": 74,
   "metadata": {},
   "outputs": [
    {
     "data": {
      "text/html": [
       "<table class=\"simpletable\">\n",
       "<tr>\n",
       "        <td>Model:</td>               <td>GLM</td>            <td>AIC:</td>       <td>-112.2105</td>\n",
       "</tr>\n",
       "<tr>\n",
       "    <td>Link Function:</td>        <td>identity</td>          <td>BIC:</td>       <td>-837.4774</td>\n",
       "</tr>\n",
       "<tr>\n",
       "  <td>Dependent Variable:</td>    <td>is_genuine</td>    <td>Log-Likelihood:</td>  <td>62.105</td>  \n",
       "</tr>\n",
       "<tr>\n",
       "         <td>Date:</td>        <td>2020-03-17 11:44</td>    <td>LL-Null:</td>      <td>-560.33</td> \n",
       "</tr>\n",
       "<tr>\n",
       "   <td>No. Observations:</td>         <td>170</td>          <td>Deviance:</td>     <td>4.7935</td>  \n",
       "</tr>\n",
       "<tr>\n",
       "       <td>Df Model:</td>              <td>5</td>         <td>Pearson chi2:</td>    <td>4.79</td>   \n",
       "</tr>\n",
       "<tr>\n",
       "     <td>Df Residuals:</td>           <td>164</td>           <td>Scale:</td>      <td>0.029229</td> \n",
       "</tr>\n",
       "<tr>\n",
       "        <td>Method:</td>             <td>IRLS</td>              <td></td>             <td></td>     \n",
       "</tr>\n",
       "</table>\n",
       "<table class=\"simpletable\">\n",
       "<tr>\n",
       "    <td></td>     <th>Coef.</th>  <th>Std.Err.</th>     <th>z</th>     <th>P>|z|</th> <th>[0.025</th>  <th>0.975]</th> \n",
       "</tr>\n",
       "<tr>\n",
       "  <th>const</th> <td>0.5882</td>   <td>0.0131</td>   <td>44.8610</td> <td>0.0000</td> <td>0.5625</td>  <td>0.6139</td> \n",
       "</tr>\n",
       "<tr>\n",
       "  <th>x1</th>    <td>0.0105</td>   <td>0.0145</td>   <td>0.7203</td>  <td>0.4714</td> <td>-0.0180</td> <td>0.0389</td> \n",
       "</tr>\n",
       "<tr>\n",
       "  <th>x2</th>    <td>-0.0226</td>  <td>0.0176</td>   <td>-1.2841</td> <td>0.1991</td> <td>-0.0570</td> <td>0.0119</td> \n",
       "</tr>\n",
       "<tr>\n",
       "  <th>x3</th>    <td>-0.2582</td>  <td>0.0205</td>  <td>-12.6145</td> <td>0.0000</td> <td>-0.2983</td> <td>-0.2181</td>\n",
       "</tr>\n",
       "<tr>\n",
       "  <th>x4</th>    <td>-0.1553</td>  <td>0.0169</td>   <td>-9.1752</td> <td>0.0000</td> <td>-0.1885</td> <td>-0.1221</td>\n",
       "</tr>\n",
       "<tr>\n",
       "  <th>x5</th>    <td>0.1500</td>   <td>0.0204</td>   <td>7.3384</td>  <td>0.0000</td> <td>0.1099</td>  <td>0.1901</td> \n",
       "</tr>\n",
       "</table>"
      ],
      "text/plain": [
       "<class 'statsmodels.iolib.summary2.Summary'>\n",
       "\"\"\"\n",
       "              Results: Generalized linear model\n",
       "==============================================================\n",
       "Model:              GLM              AIC:            -112.2105\n",
       "Link Function:      identity         BIC:            -837.4774\n",
       "Dependent Variable: is_genuine       Log-Likelihood: 62.105   \n",
       "Date:               2020-03-17 11:44 LL-Null:        -560.33  \n",
       "No. Observations:   170              Deviance:       4.7935   \n",
       "Df Model:           5                Pearson chi2:   4.79     \n",
       "Df Residuals:       164              Scale:          0.029229 \n",
       "Method:             IRLS                                      \n",
       "---------------------------------------------------------------\n",
       "           Coef.   Std.Err.     z      P>|z|    [0.025   0.975]\n",
       "---------------------------------------------------------------\n",
       "const      0.5882    0.0131   44.8610  0.0000   0.5625   0.6139\n",
       "x1         0.0105    0.0145    0.7203  0.4714  -0.0180   0.0389\n",
       "x2        -0.0226    0.0176   -1.2841  0.1991  -0.0570   0.0119\n",
       "x3        -0.2582    0.0205  -12.6145  0.0000  -0.2983  -0.2181\n",
       "x4        -0.1553    0.0169   -9.1752  0.0000  -0.1885  -0.1221\n",
       "x5         0.1500    0.0204    7.3384  0.0000   0.1099   0.1901\n",
       "==============================================================\n",
       "\n",
       "\"\"\""
      ]
     },
     "execution_count": 74,
     "metadata": {},
     "output_type": "execute_result"
    }
   ],
   "source": [
    "# Retrait de la height_left\n",
    "PDX_scaled3 = PDX_scaled.loc[:, ['diagonal', 'height_right', 'margin_low', 'margin_up', 'length']]\n",
    "x_scaled = PDX_scaled3.values\n",
    "x_stat = sm.add_constant(x_scaled)\n",
    "mod = sm.GLM(y,x_stat)\n",
    "res = mod.fit()\n",
    "res.summary2()"
   ]
  },
  {
   "cell_type": "code",
   "execution_count": 75,
   "metadata": {},
   "outputs": [
    {
     "data": {
      "text/html": [
       "<table class=\"simpletable\">\n",
       "<tr>\n",
       "        <td>Model:</td>               <td>GLM</td>            <td>AIC:</td>       <td>-110.5507</td>\n",
       "</tr>\n",
       "<tr>\n",
       "    <td>Link Function:</td>        <td>identity</td>          <td>BIC:</td>       <td>-837.4304</td>\n",
       "</tr>\n",
       "<tr>\n",
       "  <td>Dependent Variable:</td>    <td>is_genuine</td>    <td>Log-Likelihood:</td>  <td>61.275</td>  \n",
       "</tr>\n",
       "<tr>\n",
       "         <td>Date:</td>        <td>2020-03-17 11:44</td>    <td>LL-Null:</td>      <td>-554.31</td> \n",
       "</tr>\n",
       "<tr>\n",
       "   <td>No. Observations:</td>         <td>170</td>          <td>Deviance:</td>     <td>4.8406</td>  \n",
       "</tr>\n",
       "<tr>\n",
       "       <td>Df Model:</td>              <td>5</td>         <td>Pearson chi2:</td>    <td>4.84</td>   \n",
       "</tr>\n",
       "<tr>\n",
       "     <td>Df Residuals:</td>           <td>164</td>           <td>Scale:</td>      <td>0.029516</td> \n",
       "</tr>\n",
       "<tr>\n",
       "        <td>Method:</td>             <td>IRLS</td>              <td></td>             <td></td>     \n",
       "</tr>\n",
       "</table>\n",
       "<table class=\"simpletable\">\n",
       "<tr>\n",
       "    <td></td>     <th>Coef.</th>  <th>Std.Err.</th>     <th>z</th>     <th>P>|z|</th> <th>[0.025</th>  <th>0.975]</th> \n",
       "</tr>\n",
       "<tr>\n",
       "  <th>const</th> <td>0.5882</td>   <td>0.0132</td>   <td>44.6425</td> <td>0.0000</td> <td>0.5624</td>  <td>0.6141</td> \n",
       "</tr>\n",
       "<tr>\n",
       "  <th>x1</th>    <td>0.0017</td>   <td>0.0151</td>   <td>0.1144</td>  <td>0.9089</td> <td>-0.0279</td> <td>0.0314</td> \n",
       "</tr>\n",
       "<tr>\n",
       "  <th>x2</th>    <td>0.0034</td>   <td>0.0171</td>   <td>0.1988</td>  <td>0.8424</td> <td>-0.0302</td> <td>0.0370</td> \n",
       "</tr>\n",
       "<tr>\n",
       "  <th>x3</th>    <td>-0.2725</td>  <td>0.0193</td>  <td>-14.1369</td> <td>0.0000</td> <td>-0.3103</td> <td>-0.2347</td>\n",
       "</tr>\n",
       "<tr>\n",
       "  <th>x4</th>    <td>-0.1634</td>  <td>0.0165</td>   <td>-9.9243</td> <td>0.0000</td> <td>-0.1957</td> <td>-0.1312</td>\n",
       "</tr>\n",
       "<tr>\n",
       "  <th>x5</th>    <td>0.1481</td>   <td>0.0205</td>   <td>7.2230</td>  <td>0.0000</td> <td>0.1079</td>  <td>0.1883</td> \n",
       "</tr>\n",
       "</table>"
      ],
      "text/plain": [
       "<class 'statsmodels.iolib.summary2.Summary'>\n",
       "\"\"\"\n",
       "              Results: Generalized linear model\n",
       "==============================================================\n",
       "Model:              GLM              AIC:            -110.5507\n",
       "Link Function:      identity         BIC:            -837.4304\n",
       "Dependent Variable: is_genuine       Log-Likelihood: 61.275   \n",
       "Date:               2020-03-17 11:44 LL-Null:        -554.31  \n",
       "No. Observations:   170              Deviance:       4.8406   \n",
       "Df Model:           5                Pearson chi2:   4.84     \n",
       "Df Residuals:       164              Scale:          0.029516 \n",
       "Method:             IRLS                                      \n",
       "---------------------------------------------------------------\n",
       "           Coef.   Std.Err.     z      P>|z|    [0.025   0.975]\n",
       "---------------------------------------------------------------\n",
       "const      0.5882    0.0132   44.6425  0.0000   0.5624   0.6141\n",
       "x1         0.0017    0.0151    0.1144  0.9089  -0.0279   0.0314\n",
       "x2         0.0034    0.0171    0.1988  0.8424  -0.0302   0.0370\n",
       "x3        -0.2725    0.0193  -14.1369  0.0000  -0.3103  -0.2347\n",
       "x4        -0.1634    0.0165   -9.9243  0.0000  -0.1957  -0.1312\n",
       "x5         0.1481    0.0205    7.2230  0.0000   0.1079   0.1883\n",
       "==============================================================\n",
       "\n",
       "\"\"\""
      ]
     },
     "execution_count": 75,
     "metadata": {},
     "output_type": "execute_result"
    }
   ],
   "source": [
    "# Retrait de la height_left\n",
    "PDX_scaled3 = PDX_scaled.loc[:, ['diagonal', 'height_left', 'margin_low', 'margin_up', 'length']]\n",
    "x_scaled = PDX_scaled3.values\n",
    "x_stat = sm.add_constant(x_scaled)\n",
    "mod = sm.GLM(y,x_stat)\n",
    "res = mod.fit()\n",
    "res.summary2()"
   ]
  },
  {
   "cell_type": "code",
   "execution_count": 76,
   "metadata": {},
   "outputs": [
    {
     "data": {
      "text/html": [
       "<table class=\"simpletable\">\n",
       "<tr>\n",
       "        <td>Model:</td>               <td>GLM</td>            <td>AIC:</td>       <td>-113.6736</td>\n",
       "</tr>\n",
       "<tr>\n",
       "    <td>Link Function:</td>        <td>identity</td>          <td>BIC:</td>       <td>-842.5980</td>\n",
       "</tr>\n",
       "<tr>\n",
       "  <td>Dependent Variable:</td>    <td>is_genuine</td>    <td>Log-Likelihood:</td>  <td>61.837</td>  \n",
       "</tr>\n",
       "<tr>\n",
       "         <td>Date:</td>        <td>2020-03-17 11:44</td>    <td>LL-Null:</td>      <td>-562.14</td> \n",
       "</tr>\n",
       "<tr>\n",
       "   <td>No. Observations:</td>         <td>170</td>          <td>Deviance:</td>     <td>4.8087</td>  \n",
       "</tr>\n",
       "<tr>\n",
       "       <td>Df Model:</td>              <td>4</td>         <td>Pearson chi2:</td>    <td>4.81</td>   \n",
       "</tr>\n",
       "<tr>\n",
       "     <td>Df Residuals:</td>           <td>165</td>           <td>Scale:</td>      <td>0.029144</td> \n",
       "</tr>\n",
       "<tr>\n",
       "        <td>Method:</td>             <td>IRLS</td>              <td></td>             <td></td>     \n",
       "</tr>\n",
       "</table>\n",
       "<table class=\"simpletable\">\n",
       "<tr>\n",
       "    <td></td>     <th>Coef.</th>  <th>Std.Err.</th>     <th>z</th>     <th>P>|z|</th> <th>[0.025</th>  <th>0.975]</th> \n",
       "</tr>\n",
       "<tr>\n",
       "  <th>const</th> <td>0.5882</td>   <td>0.0131</td>   <td>44.9266</td> <td>0.0000</td> <td>0.5626</td>  <td>0.6139</td> \n",
       "</tr>\n",
       "<tr>\n",
       "  <th>x1</th>    <td>-0.0176</td>  <td>0.0161</td>   <td>-1.0900</td> <td>0.2757</td> <td>-0.0492</td> <td>0.0140</td> \n",
       "</tr>\n",
       "<tr>\n",
       "  <th>x2</th>    <td>-0.2631</td>  <td>0.0193</td>  <td>-13.6324</td> <td>0.0000</td> <td>-0.3009</td> <td>-0.2252</td>\n",
       "</tr>\n",
       "<tr>\n",
       "  <th>x3</th>    <td>-0.1572</td>  <td>0.0167</td>   <td>-9.4168</td> <td>0.0000</td> <td>-0.1899</td> <td>-0.1245</td>\n",
       "</tr>\n",
       "<tr>\n",
       "  <th>x4</th>    <td>0.1488</td>   <td>0.0203</td>   <td>7.3149</td>  <td>0.0000</td> <td>0.1089</td>  <td>0.1887</td> \n",
       "</tr>\n",
       "</table>"
      ],
      "text/plain": [
       "<class 'statsmodels.iolib.summary2.Summary'>\n",
       "\"\"\"\n",
       "              Results: Generalized linear model\n",
       "==============================================================\n",
       "Model:              GLM              AIC:            -113.6736\n",
       "Link Function:      identity         BIC:            -842.5980\n",
       "Dependent Variable: is_genuine       Log-Likelihood: 61.837   \n",
       "Date:               2020-03-17 11:44 LL-Null:        -562.14  \n",
       "No. Observations:   170              Deviance:       4.8087   \n",
       "Df Model:           4                Pearson chi2:   4.81     \n",
       "Df Residuals:       165              Scale:          0.029144 \n",
       "Method:             IRLS                                      \n",
       "---------------------------------------------------------------\n",
       "           Coef.   Std.Err.     z      P>|z|    [0.025   0.975]\n",
       "---------------------------------------------------------------\n",
       "const      0.5882    0.0131   44.9266  0.0000   0.5626   0.6139\n",
       "x1        -0.0176    0.0161   -1.0900  0.2757  -0.0492   0.0140\n",
       "x2        -0.2631    0.0193  -13.6324  0.0000  -0.3009  -0.2252\n",
       "x3        -0.1572    0.0167   -9.4168  0.0000  -0.1899  -0.1245\n",
       "x4         0.1488    0.0203    7.3149  0.0000   0.1089   0.1887\n",
       "==============================================================\n",
       "\n",
       "\"\"\""
      ]
     },
     "execution_count": 76,
     "metadata": {},
     "output_type": "execute_result"
    }
   ],
   "source": [
    "# Retrait de la diagonale\n",
    "PDX_scaled4 = PDX_scaled.loc[:, 'height_right':'length']\n",
    "x_scaled = PDX_scaled4.values\n",
    "x_stat = sm.add_constant(x_scaled)\n",
    "mod = sm.GLM(y,x_stat)\n",
    "res = mod.fit()\n",
    "res.summary2()"
   ]
  },
  {
   "cell_type": "code",
   "execution_count": 77,
   "metadata": {},
   "outputs": [
    {
     "data": {
      "text/html": [
       "<table class=\"simpletable\">\n",
       "<tr>\n",
       "        <td>Model:</td>               <td>GLM</td>            <td>AIC:</td>       <td>-114.4539</td>\n",
       "</tr>\n",
       "<tr>\n",
       "    <td>Link Function:</td>        <td>identity</td>          <td>BIC:</td>       <td>-847.6992</td>\n",
       "</tr>\n",
       "<tr>\n",
       "  <td>Dependent Variable:</td>    <td>is_genuine</td>    <td>Log-Likelihood:</td>  <td>61.227</td>  \n",
       "</tr>\n",
       "<tr>\n",
       "         <td>Date:</td>        <td>2020-03-17 11:44</td>    <td>LL-Null:</td>      <td>-561.44</td> \n",
       "</tr>\n",
       "<tr>\n",
       "   <td>No. Observations:</td>         <td>170</td>          <td>Deviance:</td>     <td>4.8433</td>  \n",
       "</tr>\n",
       "<tr>\n",
       "       <td>Df Model:</td>              <td>3</td>         <td>Pearson chi2:</td>    <td>4.84</td>   \n",
       "</tr>\n",
       "<tr>\n",
       "     <td>Df Residuals:</td>           <td>166</td>           <td>Scale:</td>      <td>0.029177</td> \n",
       "</tr>\n",
       "<tr>\n",
       "        <td>Method:</td>             <td>IRLS</td>              <td></td>             <td></td>     \n",
       "</tr>\n",
       "</table>\n",
       "<table class=\"simpletable\">\n",
       "<tr>\n",
       "    <td></td>     <th>Coef.</th>  <th>Std.Err.</th>     <th>z</th>     <th>P>|z|</th> <th>[0.025</th>  <th>0.975]</th> \n",
       "</tr>\n",
       "<tr>\n",
       "  <th>const</th> <td>0.5882</td>   <td>0.0131</td>   <td>44.9011</td> <td>0.0000</td> <td>0.5626</td>  <td>0.6139</td> \n",
       "</tr>\n",
       "<tr>\n",
       "  <th>x1</th>    <td>-0.2718</td>  <td>0.0176</td>  <td>-15.4821</td> <td>0.0000</td> <td>-0.3062</td> <td>-0.2374</td>\n",
       "</tr>\n",
       "<tr>\n",
       "  <th>x2</th>    <td>-0.1628</td>  <td>0.0159</td>  <td>-10.2367</td> <td>0.0000</td> <td>-0.1939</td> <td>-0.1316</td>\n",
       "</tr>\n",
       "<tr>\n",
       "  <th>x3</th>    <td>0.1477</td>   <td>0.0203</td>   <td>7.2634</td>  <td>0.0000</td> <td>0.1078</td>  <td>0.1875</td> \n",
       "</tr>\n",
       "</table>"
      ],
      "text/plain": [
       "<class 'statsmodels.iolib.summary2.Summary'>\n",
       "\"\"\"\n",
       "              Results: Generalized linear model\n",
       "==============================================================\n",
       "Model:              GLM              AIC:            -114.4539\n",
       "Link Function:      identity         BIC:            -847.6992\n",
       "Dependent Variable: is_genuine       Log-Likelihood: 61.227   \n",
       "Date:               2020-03-17 11:44 LL-Null:        -561.44  \n",
       "No. Observations:   170              Deviance:       4.8433   \n",
       "Df Model:           3                Pearson chi2:   4.84     \n",
       "Df Residuals:       166              Scale:          0.029177 \n",
       "Method:             IRLS                                      \n",
       "---------------------------------------------------------------\n",
       "           Coef.   Std.Err.     z      P>|z|    [0.025   0.975]\n",
       "---------------------------------------------------------------\n",
       "const      0.5882    0.0131   44.9011  0.0000   0.5626   0.6139\n",
       "x1        -0.2718    0.0176  -15.4821  0.0000  -0.3062  -0.2374\n",
       "x2        -0.1628    0.0159  -10.2367  0.0000  -0.1939  -0.1316\n",
       "x3         0.1477    0.0203    7.2634  0.0000   0.1078   0.1875\n",
       "==============================================================\n",
       "\n",
       "\"\"\""
      ]
     },
     "execution_count": 77,
     "metadata": {},
     "output_type": "execute_result"
    }
   ],
   "source": [
    "PDX_scaled4 = PDX_scaled.loc[:, 'margin_low':'length']\n",
    "x_scaled = PDX_scaled4.values\n",
    "x_stat = sm.add_constant(x_scaled)\n",
    "mod = sm.GLM(y,x_stat)\n",
    "res = mod.fit()\n",
    "res.summary2()"
   ]
  },
  {
   "cell_type": "markdown",
   "metadata": {},
   "source": [
    "La conservation des variables diagonale, height_left, height_right dans le modele donnent des coefficients quasi nuls et peu significatifs.\n",
    "Aussi, on ne conserve que les variables de marge et longueur dans le modele."
   ]
  },
  {
   "cell_type": "code",
   "execution_count": 78,
   "metadata": {},
   "outputs": [
    {
     "data": {
      "text/plain": [
       "(170, 6)"
      ]
     },
     "execution_count": 78,
     "metadata": {},
     "output_type": "execute_result"
    }
   ],
   "source": [
    "X.shape"
   ]
  },
  {
   "cell_type": "code",
   "execution_count": 79,
   "metadata": {},
   "outputs": [
    {
     "data": {
      "text/html": [
       "<div>\n",
       "<style scoped>\n",
       "    .dataframe tbody tr th:only-of-type {\n",
       "        vertical-align: middle;\n",
       "    }\n",
       "\n",
       "    .dataframe tbody tr th {\n",
       "        vertical-align: top;\n",
       "    }\n",
       "\n",
       "    .dataframe thead th {\n",
       "        text-align: right;\n",
       "    }\n",
       "</style>\n",
       "<table border=\"1\" class=\"dataframe\">\n",
       "  <thead>\n",
       "    <tr style=\"text-align: right;\">\n",
       "      <th></th>\n",
       "      <th>diagonal</th>\n",
       "      <th>height_left</th>\n",
       "      <th>height_right</th>\n",
       "      <th>margin_low</th>\n",
       "      <th>margin_up</th>\n",
       "      <th>length</th>\n",
       "    </tr>\n",
       "  </thead>\n",
       "  <tbody>\n",
       "    <tr>\n",
       "      <th>0</th>\n",
       "      <td>171.51</td>\n",
       "      <td>104.13</td>\n",
       "      <td>103.90</td>\n",
       "      <td>4.99</td>\n",
       "      <td>3.60</td>\n",
       "      <td>111.23</td>\n",
       "    </tr>\n",
       "    <tr>\n",
       "      <th>1</th>\n",
       "      <td>171.86</td>\n",
       "      <td>103.47</td>\n",
       "      <td>103.59</td>\n",
       "      <td>4.04</td>\n",
       "      <td>2.97</td>\n",
       "      <td>113.22</td>\n",
       "    </tr>\n",
       "    <tr>\n",
       "      <th>2</th>\n",
       "      <td>172.10</td>\n",
       "      <td>103.98</td>\n",
       "      <td>103.86</td>\n",
       "      <td>4.47</td>\n",
       "      <td>3.06</td>\n",
       "      <td>113.00</td>\n",
       "    </tr>\n",
       "    <tr>\n",
       "      <th>3</th>\n",
       "      <td>171.67</td>\n",
       "      <td>103.79</td>\n",
       "      <td>103.44</td>\n",
       "      <td>5.13</td>\n",
       "      <td>3.32</td>\n",
       "      <td>111.47</td>\n",
       "    </tr>\n",
       "    <tr>\n",
       "      <th>4</th>\n",
       "      <td>172.10</td>\n",
       "      <td>103.98</td>\n",
       "      <td>104.28</td>\n",
       "      <td>5.78</td>\n",
       "      <td>3.16</td>\n",
       "      <td>111.09</td>\n",
       "    </tr>\n",
       "    <tr>\n",
       "      <th>...</th>\n",
       "      <td>...</td>\n",
       "      <td>...</td>\n",
       "      <td>...</td>\n",
       "      <td>...</td>\n",
       "      <td>...</td>\n",
       "      <td>...</td>\n",
       "    </tr>\n",
       "    <tr>\n",
       "      <th>131</th>\n",
       "      <td>172.14</td>\n",
       "      <td>104.34</td>\n",
       "      <td>104.20</td>\n",
       "      <td>4.63</td>\n",
       "      <td>3.02</td>\n",
       "      <td>112.47</td>\n",
       "    </tr>\n",
       "    <tr>\n",
       "      <th>132</th>\n",
       "      <td>172.04</td>\n",
       "      <td>104.34</td>\n",
       "      <td>104.48</td>\n",
       "      <td>4.88</td>\n",
       "      <td>3.28</td>\n",
       "      <td>112.15</td>\n",
       "    </tr>\n",
       "    <tr>\n",
       "      <th>133</th>\n",
       "      <td>171.79</td>\n",
       "      <td>103.74</td>\n",
       "      <td>103.48</td>\n",
       "      <td>4.60</td>\n",
       "      <td>2.80</td>\n",
       "      <td>113.35</td>\n",
       "    </tr>\n",
       "    <tr>\n",
       "      <th>134</th>\n",
       "      <td>171.75</td>\n",
       "      <td>104.36</td>\n",
       "      <td>104.02</td>\n",
       "      <td>6.00</td>\n",
       "      <td>3.13</td>\n",
       "      <td>111.79</td>\n",
       "    </tr>\n",
       "    <tr>\n",
       "      <th>135</th>\n",
       "      <td>171.81</td>\n",
       "      <td>103.91</td>\n",
       "      <td>103.78</td>\n",
       "      <td>3.66</td>\n",
       "      <td>3.28</td>\n",
       "      <td>113.59</td>\n",
       "    </tr>\n",
       "  </tbody>\n",
       "</table>\n",
       "<p>136 rows × 6 columns</p>\n",
       "</div>"
      ],
      "text/plain": [
       "     diagonal  height_left  height_right  margin_low  margin_up  length\n",
       "0      171.51       104.13        103.90        4.99       3.60  111.23\n",
       "1      171.86       103.47        103.59        4.04       2.97  113.22\n",
       "2      172.10       103.98        103.86        4.47       3.06  113.00\n",
       "3      171.67       103.79        103.44        5.13       3.32  111.47\n",
       "4      172.10       103.98        104.28        5.78       3.16  111.09\n",
       "..        ...          ...           ...         ...        ...     ...\n",
       "131    172.14       104.34        104.20        4.63       3.02  112.47\n",
       "132    172.04       104.34        104.48        4.88       3.28  112.15\n",
       "133    171.79       103.74        103.48        4.60       2.80  113.35\n",
       "134    171.75       104.36        104.02        6.00       3.13  111.79\n",
       "135    171.81       103.91        103.78        3.66       3.28  113.59\n",
       "\n",
       "[136 rows x 6 columns]"
      ]
     },
     "execution_count": 79,
     "metadata": {},
     "output_type": "execute_result"
    }
   ],
   "source": [
    "X_train,X_test,y_train,y_test=train_test_split(X,y,test_size=0.20,random_state=0)\n",
    "PDX = pd.DataFrame(X_train)\n",
    "PDX.columns = ['diagonal', 'height_left', 'height_right', 'margin_low', 'margin_up', 'length']\n",
    "PDX"
   ]
  },
  {
   "cell_type": "code",
   "execution_count": 92,
   "metadata": {},
   "outputs": [
    {
     "data": {
      "text/html": [
       "<table class=\"simpletable\">\n",
       "<tr>\n",
       "        <td>Model:</td>               <td>GLM</td>            <td>AIC:</td>       <td>-83.3992</td> \n",
       "</tr>\n",
       "<tr>\n",
       "    <td>Link Function:</td>        <td>identity</td>          <td>BIC:</td>       <td>-629.8417</td>\n",
       "</tr>\n",
       "<tr>\n",
       "  <td>Dependent Variable:</td>    <td>is_genuine</td>    <td>Log-Likelihood:</td>  <td>48.700</td>  \n",
       "</tr>\n",
       "<tr>\n",
       "         <td>Date:</td>        <td>2020-03-17 12:02</td>    <td>LL-Null:</td>      <td>-432.98</td> \n",
       "</tr>\n",
       "<tr>\n",
       "   <td>No. Observations:</td>         <td>136</td>          <td>Deviance:</td>     <td>3.8908</td>  \n",
       "</tr>\n",
       "<tr>\n",
       "       <td>Df Model:</td>              <td>6</td>         <td>Pearson chi2:</td>    <td>3.89</td>   \n",
       "</tr>\n",
       "<tr>\n",
       "     <td>Df Residuals:</td>           <td>129</td>           <td>Scale:</td>      <td>0.030161</td> \n",
       "</tr>\n",
       "<tr>\n",
       "        <td>Method:</td>             <td>IRLS</td>              <td></td>             <td></td>     \n",
       "</tr>\n",
       "</table>\n",
       "<table class=\"simpletable\">\n",
       "<tr>\n",
       "    <td></td>      <th>Coef.</th>  <th>Std.Err.</th>     <th>z</th>     <th>P>|z|</th>  <th>[0.025</th>  <th>0.975]</th> \n",
       "</tr>\n",
       "<tr>\n",
       "  <th>const</th> <td>-10.2671</td>  <td>9.8731</td>   <td>-1.0399</td> <td>0.2984</td> <td>-29.6180</td> <td>9.0838</td> \n",
       "</tr>\n",
       "<tr>\n",
       "  <th>x1</th>     <td>0.0034</td>   <td>0.0561</td>   <td>0.0608</td>  <td>0.9515</td>  <td>-0.1064</td> <td>0.1133</td> \n",
       "</tr>\n",
       "<tr>\n",
       "  <th>x2</th>     <td>0.0691</td>   <td>0.0771</td>   <td>0.8962</td>  <td>0.3702</td>  <td>-0.0820</td> <td>0.2203</td> \n",
       "</tr>\n",
       "<tr>\n",
       "  <th>x3</th>     <td>-0.1112</td>  <td>0.0716</td>   <td>-1.5514</td> <td>0.1208</td>  <td>-0.2516</td> <td>0.0293</td> \n",
       "</tr>\n",
       "<tr>\n",
       "  <th>x4</th>     <td>-0.3706</td>  <td>0.0324</td>  <td>-11.4535</td> <td>0.0000</td>  <td>-0.4341</td> <td>-0.3072</td>\n",
       "</tr>\n",
       "<tr>\n",
       "  <th>x5</th>     <td>-0.6799</td>  <td>0.0858</td>   <td>-7.9273</td> <td>0.0000</td>  <td>-0.8480</td> <td>-0.5118</td>\n",
       "</tr>\n",
       "<tr>\n",
       "  <th>x6</th>     <td>0.1643</td>   <td>0.0246</td>   <td>6.6779</td>  <td>0.0000</td>  <td>0.1160</td>  <td>0.2125</td> \n",
       "</tr>\n",
       "</table>"
      ],
      "text/plain": [
       "<class 'statsmodels.iolib.summary2.Summary'>\n",
       "\"\"\"\n",
       "              Results: Generalized linear model\n",
       "==============================================================\n",
       "Model:              GLM              AIC:            -83.3992 \n",
       "Link Function:      identity         BIC:            -629.8417\n",
       "Dependent Variable: is_genuine       Log-Likelihood: 48.700   \n",
       "Date:               2020-03-17 12:02 LL-Null:        -432.98  \n",
       "No. Observations:   136              Deviance:       3.8908   \n",
       "Df Model:           6                Pearson chi2:   3.89     \n",
       "Df Residuals:       129              Scale:          0.030161 \n",
       "Method:             IRLS                                      \n",
       "---------------------------------------------------------------\n",
       "         Coef.    Std.Err.     z      P>|z|    [0.025    0.975]\n",
       "---------------------------------------------------------------\n",
       "const   -10.2671    9.8731   -1.0399  0.2984  -29.6180   9.0838\n",
       "x1        0.0034    0.0561    0.0608  0.9515   -0.1064   0.1133\n",
       "x2        0.0691    0.0771    0.8962  0.3702   -0.0820   0.2203\n",
       "x3       -0.1112    0.0716   -1.5514  0.1208   -0.2516   0.0293\n",
       "x4       -0.3706    0.0324  -11.4535  0.0000   -0.4341  -0.3072\n",
       "x5       -0.6799    0.0858   -7.9273  0.0000   -0.8480  -0.5118\n",
       "x6        0.1643    0.0246    6.6779  0.0000    0.1160   0.2125\n",
       "==============================================================\n",
       "\n",
       "\"\"\""
      ]
     },
     "execution_count": 92,
     "metadata": {},
     "output_type": "execute_result"
    }
   ],
   "source": [
    "PDX1 = PDX.loc[:, 'diagonal':'length']\n",
    "x_scaled = PDX1.values\n",
    "x_stat = sm.add_constant(x_scaled)\n",
    "mod = sm.GLM(y_train,x_stat)\n",
    "res = mod.fit()\n",
    "res.summary2()"
   ]
  },
  {
   "cell_type": "code",
   "execution_count": 93,
   "metadata": {},
   "outputs": [
    {
     "data": {
      "text/html": [
       "<table class=\"simpletable\">\n",
       "<tr>\n",
       "        <td>Model:</td>               <td>GLM</td>            <td>AIC:</td>       <td>-85.3953</td> \n",
       "</tr>\n",
       "<tr>\n",
       "    <td>Link Function:</td>        <td>identity</td>          <td>BIC:</td>       <td>-634.7543</td>\n",
       "</tr>\n",
       "<tr>\n",
       "  <td>Dependent Variable:</td>    <td>is_genuine</td>    <td>Log-Likelihood:</td>  <td>48.698</td>  \n",
       "</tr>\n",
       "<tr>\n",
       "         <td>Date:</td>        <td>2020-03-17 12:02</td>    <td>LL-Null:</td>      <td>-436.68</td> \n",
       "</tr>\n",
       "<tr>\n",
       "   <td>No. Observations:</td>         <td>136</td>          <td>Deviance:</td>     <td>3.8909</td>  \n",
       "</tr>\n",
       "<tr>\n",
       "       <td>Df Model:</td>              <td>5</td>         <td>Pearson chi2:</td>    <td>3.89</td>   \n",
       "</tr>\n",
       "<tr>\n",
       "     <td>Df Residuals:</td>           <td>130</td>           <td>Scale:</td>      <td>0.029930</td> \n",
       "</tr>\n",
       "<tr>\n",
       "        <td>Method:</td>             <td>IRLS</td>              <td></td>             <td></td>     \n",
       "</tr>\n",
       "</table>\n",
       "<table class=\"simpletable\">\n",
       "<tr>\n",
       "    <td></td>     <th>Coef.</th>  <th>Std.Err.</th>     <th>z</th>     <th>P>|z|</th>  <th>[0.025</th>  <th>0.975]</th> \n",
       "</tr>\n",
       "<tr>\n",
       "  <th>const</th> <td>-9.8677</td>  <td>7.3455</td>   <td>-1.3434</td> <td>0.1792</td> <td>-24.2647</td> <td>4.5293</td> \n",
       "</tr>\n",
       "<tr>\n",
       "  <th>x1</th>    <td>0.0703</td>   <td>0.0741</td>   <td>0.9493</td>  <td>0.3425</td>  <td>-0.0749</td> <td>0.2156</td> \n",
       "</tr>\n",
       "<tr>\n",
       "  <th>x2</th>    <td>-0.1104</td>  <td>0.0703</td>   <td>-1.5712</td> <td>0.1161</td>  <td>-0.2481</td> <td>0.0273</td> \n",
       "</tr>\n",
       "<tr>\n",
       "  <th>x3</th>    <td>-0.3714</td>  <td>0.0300</td>  <td>-12.3656</td> <td>0.0000</td>  <td>-0.4302</td> <td>-0.3125</td>\n",
       "</tr>\n",
       "<tr>\n",
       "  <th>x4</th>    <td>-0.6808</td>  <td>0.0841</td>   <td>-8.0941</td> <td>0.0000</td>  <td>-0.8456</td> <td>-0.5159</td>\n",
       "</tr>\n",
       "<tr>\n",
       "  <th>x5</th>    <td>0.1641</td>   <td>0.0244</td>   <td>6.7261</td>  <td>0.0000</td>  <td>0.1163</td>  <td>0.2119</td> \n",
       "</tr>\n",
       "</table>"
      ],
      "text/plain": [
       "<class 'statsmodels.iolib.summary2.Summary'>\n",
       "\"\"\"\n",
       "              Results: Generalized linear model\n",
       "==============================================================\n",
       "Model:              GLM              AIC:            -85.3953 \n",
       "Link Function:      identity         BIC:            -634.7543\n",
       "Dependent Variable: is_genuine       Log-Likelihood: 48.698   \n",
       "Date:               2020-03-17 12:02 LL-Null:        -436.68  \n",
       "No. Observations:   136              Deviance:       3.8909   \n",
       "Df Model:           5                Pearson chi2:   3.89     \n",
       "Df Residuals:       130              Scale:          0.029930 \n",
       "Method:             IRLS                                      \n",
       "---------------------------------------------------------------\n",
       "          Coef.   Std.Err.     z      P>|z|    [0.025    0.975]\n",
       "---------------------------------------------------------------\n",
       "const    -9.8677    7.3455   -1.3434  0.1792  -24.2647   4.5293\n",
       "x1        0.0703    0.0741    0.9493  0.3425   -0.0749   0.2156\n",
       "x2       -0.1104    0.0703   -1.5712  0.1161   -0.2481   0.0273\n",
       "x3       -0.3714    0.0300  -12.3656  0.0000   -0.4302  -0.3125\n",
       "x4       -0.6808    0.0841   -8.0941  0.0000   -0.8456  -0.5159\n",
       "x5        0.1641    0.0244    6.7261  0.0000    0.1163   0.2119\n",
       "==============================================================\n",
       "\n",
       "\"\"\""
      ]
     },
     "execution_count": 93,
     "metadata": {},
     "output_type": "execute_result"
    }
   ],
   "source": [
    "PDX2 = PDX.loc[:, 'height_left':'length']\n",
    "x_scaled = PDX2.values\n",
    "x_stat = sm.add_constant(x_scaled)\n",
    "mod = sm.GLM(y_train,x_stat)\n",
    "res = mod.fit()\n",
    "res.summary2()"
   ]
  },
  {
   "cell_type": "code",
   "execution_count": 94,
   "metadata": {},
   "outputs": [
    {
     "data": {
      "text/html": [
       "<table class=\"simpletable\">\n",
       "<tr>\n",
       "        <td>Model:</td>               <td>GLM</td>            <td>AIC:</td>       <td>-86.4559</td> \n",
       "</tr>\n",
       "<tr>\n",
       "    <td>Link Function:</td>        <td>identity</td>          <td>BIC:</td>       <td>-639.6399</td>\n",
       "</tr>\n",
       "<tr>\n",
       "  <td>Dependent Variable:</td>    <td>is_genuine</td>    <td>Log-Likelihood:</td>  <td>48.228</td>  \n",
       "</tr>\n",
       "<tr>\n",
       "         <td>Date:</td>        <td>2020-03-17 12:02</td>    <td>LL-Null:</td>      <td>-437.04</td> \n",
       "</tr>\n",
       "<tr>\n",
       "   <td>No. Observations:</td>         <td>136</td>          <td>Deviance:</td>     <td>3.9179</td>  \n",
       "</tr>\n",
       "<tr>\n",
       "       <td>Df Model:</td>              <td>4</td>         <td>Pearson chi2:</td>    <td>3.92</td>   \n",
       "</tr>\n",
       "<tr>\n",
       "     <td>Df Residuals:</td>           <td>131</td>           <td>Scale:</td>      <td>0.029907</td> \n",
       "</tr>\n",
       "<tr>\n",
       "        <td>Method:</td>             <td>IRLS</td>              <td></td>             <td></td>     \n",
       "</tr>\n",
       "</table>\n",
       "<table class=\"simpletable\">\n",
       "<tr>\n",
       "    <td></td>     <th>Coef.</th>  <th>Std.Err.</th>     <th>z</th>     <th>P>|z|</th>  <th>[0.025</th>  <th>0.975]</th> \n",
       "</tr>\n",
       "<tr>\n",
       "  <th>const</th> <td>-6.3900</td>  <td>6.3643</td>   <td>-1.0040</td> <td>0.3154</td> <td>-18.8639</td> <td>6.0838</td> \n",
       "</tr>\n",
       "<tr>\n",
       "  <th>x1</th>    <td>-0.0709</td>  <td>0.0566</td>   <td>-1.2528</td> <td>0.2103</td>  <td>-0.1818</td> <td>0.0400</td> \n",
       "</tr>\n",
       "<tr>\n",
       "  <th>x2</th>    <td>-0.3705</td>  <td>0.0300</td>  <td>-12.3481</td> <td>0.0000</td>  <td>-0.4293</td> <td>-0.3117</td>\n",
       "</tr>\n",
       "<tr>\n",
       "  <th>x3</th>    <td>-0.6761</td>  <td>0.0839</td>   <td>-8.0552</td> <td>0.0000</td>  <td>-0.8406</td> <td>-0.5116</td>\n",
       "</tr>\n",
       "<tr>\n",
       "  <th>x4</th>    <td>0.1616</td>   <td>0.0243</td>   <td>6.6653</td>  <td>0.0000</td>  <td>0.1141</td>  <td>0.2092</td> \n",
       "</tr>\n",
       "</table>"
      ],
      "text/plain": [
       "<class 'statsmodels.iolib.summary2.Summary'>\n",
       "\"\"\"\n",
       "              Results: Generalized linear model\n",
       "==============================================================\n",
       "Model:              GLM              AIC:            -86.4559 \n",
       "Link Function:      identity         BIC:            -639.6399\n",
       "Dependent Variable: is_genuine       Log-Likelihood: 48.228   \n",
       "Date:               2020-03-17 12:02 LL-Null:        -437.04  \n",
       "No. Observations:   136              Deviance:       3.9179   \n",
       "Df Model:           4                Pearson chi2:   3.92     \n",
       "Df Residuals:       131              Scale:          0.029907 \n",
       "Method:             IRLS                                      \n",
       "---------------------------------------------------------------\n",
       "          Coef.   Std.Err.     z      P>|z|    [0.025    0.975]\n",
       "---------------------------------------------------------------\n",
       "const    -6.3900    6.3643   -1.0040  0.3154  -18.8639   6.0838\n",
       "x1       -0.0709    0.0566   -1.2528  0.2103   -0.1818   0.0400\n",
       "x2       -0.3705    0.0300  -12.3481  0.0000   -0.4293  -0.3117\n",
       "x3       -0.6761    0.0839   -8.0552  0.0000   -0.8406  -0.5116\n",
       "x4        0.1616    0.0243    6.6653  0.0000    0.1141   0.2092\n",
       "==============================================================\n",
       "\n",
       "\"\"\""
      ]
     },
     "execution_count": 94,
     "metadata": {},
     "output_type": "execute_result"
    }
   ],
   "source": [
    "PDX3 = PDX.loc[:, 'height_right':'length']\n",
    "x_scaled = PDX3.values\n",
    "x_stat = sm.add_constant(x_scaled)\n",
    "mod = sm.GLM(y_train,x_stat)\n",
    "res = mod.fit()\n",
    "res.summary2()"
   ]
  },
  {
   "cell_type": "code",
   "execution_count": 125,
   "metadata": {},
   "outputs": [
    {
     "data": {
      "text/html": [
       "<table class=\"simpletable\">\n",
       "<tr>\n",
       "        <td>Model:</td>               <td>GLM</td>            <td>AIC:</td>       <td>-86.8363</td> \n",
       "</tr>\n",
       "<tr>\n",
       "    <td>Link Function:</td>        <td>identity</td>          <td>BIC:</td>       <td>-644.5057</td>\n",
       "</tr>\n",
       "<tr>\n",
       "  <td>Dependent Variable:</td>    <td>is_genuine</td>    <td>Log-Likelihood:</td>  <td>47.418</td>  \n",
       "</tr>\n",
       "<tr>\n",
       "         <td>Date:</td>        <td>2020-03-17 13:08</td>    <td>LL-Null:</td>      <td>-434.97</td> \n",
       "</tr>\n",
       "<tr>\n",
       "   <td>No. Observations:</td>         <td>136</td>          <td>Deviance:</td>     <td>3.9648</td>  \n",
       "</tr>\n",
       "<tr>\n",
       "       <td>Df Model:</td>              <td>3</td>         <td>Pearson chi2:</td>    <td>3.96</td>   \n",
       "</tr>\n",
       "<tr>\n",
       "     <td>Df Residuals:</td>           <td>132</td>           <td>Scale:</td>      <td>0.030036</td> \n",
       "</tr>\n",
       "<tr>\n",
       "        <td>Method:</td>             <td>IRLS</td>              <td></td>             <td></td>     \n",
       "</tr>\n",
       "</table>\n",
       "<table class=\"simpletable\">\n",
       "<tr>\n",
       "    <td></td>      <th>Coef.</th>  <th>Std.Err.</th>     <th>z</th>     <th>P>|z|</th>  <th>[0.025</th>  <th>0.975]</th> \n",
       "</tr>\n",
       "<tr>\n",
       "  <th>const</th> <td>-13.4533</td>  <td>2.9586</td>   <td>-4.5472</td> <td>0.0000</td> <td>-19.2520</td> <td>-7.6546</td>\n",
       "</tr>\n",
       "<tr>\n",
       "  <th>x1</th>     <td>-0.3851</td>  <td>0.0277</td>  <td>-13.8984</td> <td>0.0000</td>  <td>-0.4394</td> <td>-0.3308</td>\n",
       "</tr>\n",
       "<tr>\n",
       "  <th>x2</th>     <td>-0.7102</td>  <td>0.0796</td>   <td>-8.9255</td> <td>0.0000</td>  <td>-0.8661</td> <td>-0.5542</td>\n",
       "</tr>\n",
       "<tr>\n",
       "  <th>x3</th>     <td>0.1605</td>   <td>0.0243</td>   <td>6.6080</td>  <td>0.0000</td>  <td>0.1129</td>  <td>0.2081</td> \n",
       "</tr>\n",
       "</table>"
      ],
      "text/plain": [
       "<class 'statsmodels.iolib.summary2.Summary'>\n",
       "\"\"\"\n",
       "              Results: Generalized linear model\n",
       "==============================================================\n",
       "Model:              GLM              AIC:            -86.8363 \n",
       "Link Function:      identity         BIC:            -644.5057\n",
       "Dependent Variable: is_genuine       Log-Likelihood: 47.418   \n",
       "Date:               2020-03-17 13:08 LL-Null:        -434.97  \n",
       "No. Observations:   136              Deviance:       3.9648   \n",
       "Df Model:           3                Pearson chi2:   3.96     \n",
       "Df Residuals:       132              Scale:          0.030036 \n",
       "Method:             IRLS                                      \n",
       "---------------------------------------------------------------\n",
       "         Coef.    Std.Err.     z      P>|z|    [0.025    0.975]\n",
       "---------------------------------------------------------------\n",
       "const   -13.4533    2.9586   -4.5472  0.0000  -19.2520  -7.6546\n",
       "x1       -0.3851    0.0277  -13.8984  0.0000   -0.4394  -0.3308\n",
       "x2       -0.7102    0.0796   -8.9255  0.0000   -0.8661  -0.5542\n",
       "x3        0.1605    0.0243    6.6080  0.0000    0.1129   0.2081\n",
       "==============================================================\n",
       "\n",
       "\"\"\""
      ]
     },
     "execution_count": 125,
     "metadata": {},
     "output_type": "execute_result"
    }
   ],
   "source": [
    "PDX4 = PDX.loc[:, 'margin_low':'length']\n",
    "x_scaled = PDX4.values\n",
    "x_stat = sm.add_constant(x_scaled)\n",
    "mod = sm.GLM(y_train,x_stat)\n",
    "res = mod.fit()\n",
    "res.summary2()"
   ]
  },
  {
   "cell_type": "code",
   "execution_count": 126,
   "metadata": {},
   "outputs": [
    {
     "data": {
      "text/plain": [
       "array([[  1.  ,   5.31,   3.54, 111.89],\n",
       "       [  1.  ,   5.46,   3.31, 111.42],\n",
       "       [  1.  ,   4.73,   3.55, 111.87],\n",
       "       [  1.  ,   3.95,   3.  , 113.1 ],\n",
       "       [  1.  ,   4.5 ,   3.1 , 113.03],\n",
       "       [  1.  ,   5.66,   2.98, 112.95],\n",
       "       [  1.  ,   3.54,   3.19, 113.38],\n",
       "       [  1.  ,   4.53,   3.04, 112.93],\n",
       "       [  1.  ,   6.19,   3.07, 111.21],\n",
       "       [  1.  ,   4.01,   3.09, 112.95],\n",
       "       [  1.  ,   5.14,   3.3 , 111.4 ],\n",
       "       [  1.  ,   4.54,   2.99, 113.16],\n",
       "       [  1.  ,   3.97,   3.24, 113.07],\n",
       "       [  1.  ,   5.2 ,   3.37, 112.2 ],\n",
       "       [  1.  ,   4.56,   2.83, 113.43],\n",
       "       [  1.  ,   3.6 ,   3.5 , 113.24],\n",
       "       [  1.  ,   3.69,   3.17, 113.14],\n",
       "       [  1.  ,   5.59,   3.47, 110.98],\n",
       "       [  1.  ,   4.19,   2.98, 113.09],\n",
       "       [  1.  ,   4.03,   3.25, 113.06],\n",
       "       [  1.  ,   6.19,   3.08, 110.73],\n",
       "       [  1.  ,   5.04,   2.27, 113.55],\n",
       "       [  1.  ,   4.52,   3.67, 112.13],\n",
       "       [  1.  ,   4.95,   3.04, 110.61],\n",
       "       [  1.  ,   5.05,   3.62, 111.56],\n",
       "       [  1.  ,   3.8 ,   2.99, 113.63],\n",
       "       [  1.  ,   3.82,   3.15, 112.89],\n",
       "       [  1.  ,   5.77,   3.22, 111.93],\n",
       "       [  1.  ,   4.09,   3.12, 113.23],\n",
       "       [  1.  ,   4.45,   2.94, 113.98],\n",
       "       [  1.  ,   4.28,   3.07, 112.71],\n",
       "       [  1.  ,   5.01,   3.42, 111.77],\n",
       "       [  1.  ,   4.05,   3.08, 112.71],\n",
       "       [  1.  ,   4.06,   3.33, 113.53]])"
      ]
     },
     "execution_count": 126,
     "metadata": {},
     "output_type": "execute_result"
    }
   ],
   "source": [
    "PDX_test = pd.DataFrame(X_test)\n",
    "PDX_test.columns = ['diagonal', 'height_left', 'height_right', 'margin_low', 'margin_up', 'length']\n",
    "x_test = PDX_test.loc[:, \"margin_low\":\"length\"]\n",
    "x_test = x_test.values\n",
    "x_test = sm.add_constant(x_test)\n",
    "x_test"
   ]
  },
  {
   "cell_type": "code",
   "execution_count": 127,
   "metadata": {},
   "outputs": [
    {
     "data": {
      "text/plain": [
       "[False,\n",
       " False,\n",
       " False,\n",
       " True,\n",
       " True,\n",
       " False,\n",
       " True,\n",
       " True,\n",
       " False,\n",
       " True,\n",
       " False,\n",
       " True,\n",
       " True,\n",
       " False,\n",
       " True,\n",
       " True,\n",
       " True,\n",
       " False,\n",
       " True,\n",
       " True,\n",
       " False,\n",
       " True,\n",
       " False,\n",
       " False,\n",
       " False,\n",
       " True,\n",
       " True,\n",
       " False,\n",
       " True,\n",
       " True,\n",
       " True,\n",
       " False,\n",
       " True,\n",
       " True]"
      ]
     },
     "execution_count": 127,
     "metadata": {},
     "output_type": "execute_result"
    }
   ],
   "source": [
    "result = res.predict(x_test)\n",
    "result_list = result.tolist()\n",
    "result_list = [ True if x > 0.5 else False for x in result_list]\n",
    "result_list"
   ]
  },
  {
   "cell_type": "code",
   "execution_count": 128,
   "metadata": {},
   "outputs": [
    {
     "data": {
      "text/plain": [
       "array([[14,  0],\n",
       "       [ 0, 20]])"
      ]
     },
     "execution_count": 128,
     "metadata": {},
     "output_type": "execute_result"
    }
   ],
   "source": [
    "cnf_matrix_2 = metrics.confusion_matrix(y_test, result_list)\n",
    "cnf_matrix_2"
   ]
  },
  {
   "cell_type": "markdown",
   "metadata": {},
   "source": [
    "# Jeu de test"
   ]
  },
  {
   "cell_type": "code",
   "execution_count": 129,
   "metadata": {},
   "outputs": [
    {
     "data": {
      "text/plain": [
       "array([[  1.  ,   5.21,   3.3 , 111.42],\n",
       "       [  1.  ,   6.  ,   3.31, 112.09],\n",
       "       [  1.  ,   4.99,   3.39, 111.57],\n",
       "       [  1.  ,   4.44,   3.03, 113.2 ],\n",
       "       [  1.  ,   3.77,   3.16, 113.33]])"
      ]
     },
     "execution_count": 129,
     "metadata": {},
     "output_type": "execute_result"
    }
   ],
   "source": [
    "x_test = pd.read_csv('example.csv')\n",
    "x_test = x_test.drop(['id'], axis=1)\n",
    "x_test = x_test.loc[:, \"margin_low\":\"length\"]\n",
    "x_test = x_test.values\n",
    "x_test = sm.add_constant(x_test)\n",
    "x_test"
   ]
  },
  {
   "cell_type": "code",
   "execution_count": 130,
   "metadata": {},
   "outputs": [
    {
     "data": {
      "text/plain": [
       "array([ 0.07743066, -0.12640588,  0.12231543,  0.85139708,  1.03797577])"
      ]
     },
     "execution_count": 130,
     "metadata": {},
     "output_type": "execute_result"
    }
   ],
   "source": [
    "res.predict(x_test)"
   ]
  },
  {
   "cell_type": "markdown",
   "metadata": {},
   "source": [
    "## Alternative model"
   ]
  },
  {
   "cell_type": "code",
   "execution_count": 87,
   "metadata": {},
   "outputs": [
    {
     "data": {
      "text/html": [
       "<div>\n",
       "<style scoped>\n",
       "    .dataframe tbody tr th:only-of-type {\n",
       "        vertical-align: middle;\n",
       "    }\n",
       "\n",
       "    .dataframe tbody tr th {\n",
       "        vertical-align: top;\n",
       "    }\n",
       "\n",
       "    .dataframe thead th {\n",
       "        text-align: right;\n",
       "    }\n",
       "</style>\n",
       "<table border=\"1\" class=\"dataframe\">\n",
       "  <thead>\n",
       "    <tr style=\"text-align: right;\">\n",
       "      <th></th>\n",
       "      <th>diagonal</th>\n",
       "      <th>height_left</th>\n",
       "      <th>height_right</th>\n",
       "      <th>margin_low</th>\n",
       "      <th>margin_up</th>\n",
       "      <th>length</th>\n",
       "      <th>genuine</th>\n",
       "    </tr>\n",
       "  </thead>\n",
       "  <tbody>\n",
       "    <tr>\n",
       "      <th>0</th>\n",
       "      <td>-0.428344</td>\n",
       "      <td>2.669454</td>\n",
       "      <td>3.096563</td>\n",
       "      <td>-0.131590</td>\n",
       "      <td>-1.189874</td>\n",
       "      <td>0.281633</td>\n",
       "      <td>1</td>\n",
       "    </tr>\n",
       "    <tr>\n",
       "      <th>1</th>\n",
       "      <td>-0.887559</td>\n",
       "      <td>-1.097697</td>\n",
       "      <td>-0.691254</td>\n",
       "      <td>-0.860126</td>\n",
       "      <td>-1.274740</td>\n",
       "      <td>0.780697</td>\n",
       "      <td>1</td>\n",
       "    </tr>\n",
       "    <tr>\n",
       "      <th>2</th>\n",
       "      <td>-0.362742</td>\n",
       "      <td>-1.030427</td>\n",
       "      <td>-0.509439</td>\n",
       "      <td>-0.303010</td>\n",
       "      <td>-1.232307</td>\n",
       "      <td>1.377405</td>\n",
       "      <td>1</td>\n",
       "    </tr>\n",
       "    <tr>\n",
       "      <th>3</th>\n",
       "      <td>-0.461145</td>\n",
       "      <td>-0.963156</td>\n",
       "      <td>-0.842767</td>\n",
       "      <td>-1.260106</td>\n",
       "      <td>-0.213913</td>\n",
       "      <td>1.149571</td>\n",
       "      <td>1</td>\n",
       "    </tr>\n",
       "    <tr>\n",
       "      <th>4</th>\n",
       "      <td>0.358883</td>\n",
       "      <td>-1.232238</td>\n",
       "      <td>-0.539742</td>\n",
       "      <td>0.611230</td>\n",
       "      <td>-3.820725</td>\n",
       "      <td>1.062777</td>\n",
       "      <td>1</td>\n",
       "    </tr>\n",
       "    <tr>\n",
       "      <th>...</th>\n",
       "      <td>...</td>\n",
       "      <td>...</td>\n",
       "      <td>...</td>\n",
       "      <td>...</td>\n",
       "      <td>...</td>\n",
       "      <td>...</td>\n",
       "      <td>...</td>\n",
       "    </tr>\n",
       "    <tr>\n",
       "      <th>165</th>\n",
       "      <td>0.555689</td>\n",
       "      <td>0.550431</td>\n",
       "      <td>1.581436</td>\n",
       "      <td>0.896930</td>\n",
       "      <td>1.738009</td>\n",
       "      <td>-0.857535</td>\n",
       "      <td>0</td>\n",
       "    </tr>\n",
       "    <tr>\n",
       "      <th>166</th>\n",
       "      <td>3.507789</td>\n",
       "      <td>1.761301</td>\n",
       "      <td>1.157201</td>\n",
       "      <td>0.611230</td>\n",
       "      <td>-0.510944</td>\n",
       "      <td>-1.801418</td>\n",
       "      <td>0</td>\n",
       "    </tr>\n",
       "    <tr>\n",
       "      <th>167</th>\n",
       "      <td>1.736529</td>\n",
       "      <td>0.684972</td>\n",
       "      <td>0.520847</td>\n",
       "      <td>0.382670</td>\n",
       "      <td>0.677182</td>\n",
       "      <td>-2.050950</td>\n",
       "      <td>0</td>\n",
       "    </tr>\n",
       "    <tr>\n",
       "      <th>168</th>\n",
       "      <td>-0.395543</td>\n",
       "      <td>-0.324086</td>\n",
       "      <td>-0.145809</td>\n",
       "      <td>0.168395</td>\n",
       "      <td>1.610710</td>\n",
       "      <td>-0.759892</td>\n",
       "      <td>0</td>\n",
       "    </tr>\n",
       "    <tr>\n",
       "      <th>169</th>\n",
       "      <td>0.063673</td>\n",
       "      <td>-0.223180</td>\n",
       "      <td>0.066309</td>\n",
       "      <td>1.454046</td>\n",
       "      <td>0.380151</td>\n",
       "      <td>-1.747172</td>\n",
       "      <td>0</td>\n",
       "    </tr>\n",
       "  </tbody>\n",
       "</table>\n",
       "<p>170 rows × 7 columns</p>\n",
       "</div>"
      ],
      "text/plain": [
       "     diagonal  height_left  height_right  margin_low  margin_up    length  \\\n",
       "0   -0.428344     2.669454      3.096563   -0.131590  -1.189874  0.281633   \n",
       "1   -0.887559    -1.097697     -0.691254   -0.860126  -1.274740  0.780697   \n",
       "2   -0.362742    -1.030427     -0.509439   -0.303010  -1.232307  1.377405   \n",
       "3   -0.461145    -0.963156     -0.842767   -1.260106  -0.213913  1.149571   \n",
       "4    0.358883    -1.232238     -0.539742    0.611230  -3.820725  1.062777   \n",
       "..        ...          ...           ...         ...        ...       ...   \n",
       "165  0.555689     0.550431      1.581436    0.896930   1.738009 -0.857535   \n",
       "166  3.507789     1.761301      1.157201    0.611230  -0.510944 -1.801418   \n",
       "167  1.736529     0.684972      0.520847    0.382670   0.677182 -2.050950   \n",
       "168 -0.395543    -0.324086     -0.145809    0.168395   1.610710 -0.759892   \n",
       "169  0.063673    -0.223180      0.066309    1.454046   0.380151 -1.747172   \n",
       "\n",
       "     genuine  \n",
       "0          1  \n",
       "1          1  \n",
       "2          1  \n",
       "3          1  \n",
       "4          1  \n",
       "..       ...  \n",
       "165        0  \n",
       "166        0  \n",
       "167        0  \n",
       "168        0  \n",
       "169        0  \n",
       "\n",
       "[170 rows x 7 columns]"
      ]
     },
     "execution_count": 87,
     "metadata": {},
     "output_type": "execute_result"
    }
   ],
   "source": [
    "PDX_scaled['genuine'] = y * 1\n",
    "PDX_scaled"
   ]
  },
  {
   "cell_type": "code",
   "execution_count": null,
   "metadata": {},
   "outputs": [],
   "source": []
  }
 ],
 "metadata": {
  "kernelspec": {
   "display_name": "Python 3",
   "language": "python",
   "name": "python3"
  },
  "language_info": {
   "codemirror_mode": {
    "name": "ipython",
    "version": 3
   },
   "file_extension": ".py",
   "mimetype": "text/x-python",
   "name": "python",
   "nbconvert_exporter": "python",
   "pygments_lexer": "ipython3",
   "version": "3.6.8"
  }
 },
 "nbformat": 4,
 "nbformat_minor": 4
}
